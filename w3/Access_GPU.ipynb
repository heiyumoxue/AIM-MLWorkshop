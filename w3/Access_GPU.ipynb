{
 "cells": [
  {
   "cell_type": "markdown",
   "id": "3ad766e5-2f7f-456f-8646-e7c17404184a",
   "metadata": {},
   "source": [
    "## Accessing a GPU\n",
    "1. Use google Colab for a free GPU\n",
    "2. Use your own GPU - set up\n",
    "3. Use cloud computing - AWS, Azure, etc.\n",
    "\n",
    "For 2, 3 PyTorch + GPU drivers (CUDA) takes a little bit of setting up, to do this, refer to PyTorch setup documentation https://pytorch.org/get-started/locally/\n"
   ]
  },
  {
   "cell_type": "code",
   "execution_count": null,
   "id": "75ae0f83-6295-49d4-bcb6-885391944adf",
   "metadata": {},
   "outputs": [],
   "source": [
    "!nvidia-smi"
   ]
  },
  {
   "cell_type": "code",
   "execution_count": null,
   "id": "5e889eb5-c3be-4fa2-800a-97ce2ef5338b",
   "metadata": {},
   "outputs": [],
   "source": [
    "import torch\n",
    "torch.cuda.is_available()"
   ]
  },
  {
   "cell_type": "code",
   "execution_count": null,
   "id": "c9e8df37-03dc-437b-8e79-aaa238a8cdad",
   "metadata": {},
   "outputs": [],
   "source": [
    "%%bash\n",
    "pip install torchvision"
   ]
  },
  {
   "cell_type": "code",
   "execution_count": null,
   "id": "9a134826-df27-4db9-87e5-febac41152b2",
   "metadata": {},
   "outputs": [],
   "source": [
    "from torchvision import models"
   ]
  },
  {
   "cell_type": "code",
   "execution_count": null,
   "id": "2991c53a-e0f4-4705-ba47-db32d80c6364",
   "metadata": {},
   "outputs": [],
   "source": [
    "model = models.alexnet()\n",
    "print(model)"
   ]
  },
  {
   "cell_type": "code",
   "execution_count": null,
   "id": "3b114064-0e06-486d-a7fc-ead574835a7e",
   "metadata": {},
   "outputs": [],
   "source": [
    "model = models.vgg19()\n",
    "print(model)"
   ]
  },
  {
   "cell_type": "markdown",
   "id": "a9b3e120-7d48-4d97-842c-e76f06720330",
   "metadata": {},
   "source": [
    "## Install matplotlib"
   ]
  },
  {
   "cell_type": "code",
   "execution_count": null,
   "id": "5cfeccb4-4a80-4716-8169-0aef79869e60",
   "metadata": {},
   "outputs": [],
   "source": [
    "#Windows, Linus, MacOS users can install this library using the following command:\n",
    "%%bash\n",
    "python -mpip install -U matplotlib\n",
    "#To install Matplotlib in Jupyter Notebook run the following command:\n",
    "pip install matplotlib\n",
    "#To install Matplotlib in Anaconda Prompt use the following command:\n",
    "conda install matplotlib"
   ]
  },
  {
   "cell_type": "code",
   "execution_count": null,
   "id": "3b0baf31-b4f7-46ac-b274-23e98f8b86d7",
   "metadata": {},
   "outputs": [],
   "source": [
    "import torch\n",
    "feature1 = torch.rand(8, 128, 2048) # B C N\n",
    "feat2_grouped = torch.rand(8, 128, 2048, 64)\n",
    "B, _, N = feature1.shape\n",
    "# x2 = x.torch.rand(8, 2048, 3)\n",
    "nsample=64"
   ]
  },
  {
   "cell_type": "code",
   "execution_count": null,
   "id": "2b74786d-b9f1-40d7-a646-6f60f72f4078",
   "metadata": {},
   "outputs": [],
   "source": [
    "feats = feature1.view(B, -1, N, 1).repeat(1, 1, 1, nsample)\n",
    "feats.shape"
   ]
  },
  {
   "cell_type": "code",
   "execution_count": null,
   "id": "ae0d0b1b-af56-4fbe-99d2-ce2aef6377c3",
   "metadata": {},
   "outputs": [],
   "source": [
    "feat_cat = torch.cat([feat2_grouped, feats], dim = 1)\n",
    "feat_cat.shape"
   ]
  },
  {
   "cell_type": "code",
   "execution_count": null,
   "id": "bc82b54e-6c64-4a12-962f-668c99b9524c",
   "metadata": {},
   "outputs": [],
   "source": []
  }
 ],
 "metadata": {
  "kernelspec": {
   "display_name": "Python 3.10.6 64-bit",
   "language": "python",
   "name": "python3"
  },
  "language_info": {
   "codemirror_mode": {
    "name": "ipython",
    "version": 3
   },
   "file_extension": ".py",
   "mimetype": "text/x-python",
   "name": "python",
   "nbconvert_exporter": "python",
   "pygments_lexer": "ipython3",
   "version": "3.10.6"
  },
  "vscode": {
   "interpreter": {
    "hash": "b0fa6594d8f4cbf19f97940f81e996739fb7646882a419484c72d19e05852a7e"
   }
  }
 },
 "nbformat": 4,
 "nbformat_minor": 5
}
