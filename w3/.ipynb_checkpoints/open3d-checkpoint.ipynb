{
 "cells": [
  {
   "cell_type": "code",
   "execution_count": null,
   "metadata": {},
   "outputs": [
    {
     "name": "stdout",
     "output_type": "stream",
     "text": [
      "Collecting open3d\n",
      "  Downloading open3d-0.15.2-cp39-cp39-manylinux_2_27_x86_64.whl (408.7 MB)\n",
      "\u001b[2K     \u001b[38;2;114;156;31m━━━━━━━━━━━━━━━━━━━━━━━━━━━━━━━━━━━━━━━\u001b[0m \u001b[32m408.7/408.7 MB\u001b[0m \u001b[31m2.6 MB/s\u001b[0m eta \u001b[36m0:00:00\u001b[0mm eta \u001b[36m0:00:01\u001b[0m[36m0:00:01\u001b[0m\n",
      "\u001b[?25hCollecting jupyterlab==3.*,>=3.0.0\n",
      "  Downloading jupyterlab-3.4.8-py3-none-any.whl (8.8 MB)\n",
      "\u001b[2K     \u001b[38;2;114;156;31m━━━━━━━━━━━━━━━━━━━━━━━━━━━━━━━━━━━━━━━━\u001b[0m \u001b[32m8.8/8.8 MB\u001b[0m \u001b[31m52.8 MB/s\u001b[0m eta \u001b[36m0:00:00\u001b[0m0m eta \u001b[36m0:00:01\u001b[0m0:01\u001b[0m:01\u001b[0m\n",
      "\u001b[?25hRequirement already satisfied: pyyaml>=5.4.1 in /home/zli3/PyTorch/lib/python3.9/site-packages (from open3d) (6.0)\n",
      "Collecting scikit-learn>=0.21\n",
      "  Downloading scikit_learn-1.1.2-cp39-cp39-manylinux_2_17_x86_64.manylinux2014_x86_64.whl (30.8 MB)\n",
      "\u001b[2K     \u001b[38;2;114;156;31m━━━━━━━━━━━━━━━━━━━━━━━━━━━━━━━━━━━━━━━━\u001b[0m \u001b[32m30.8/30.8 MB\u001b[0m \u001b[31m22.2 MB/s\u001b[0m eta \u001b[36m0:00:00\u001b[0mm eta \u001b[36m0:00:01\u001b[0m0:01\u001b[0m:01\u001b[0m\n",
      "\u001b[?25hRequirement already satisfied: tqdm in /home/zli3/PyTorch/lib/python3.9/site-packages (from open3d) (4.64.1)\n",
      "Requirement already satisfied: wheel>=0.36.0 in /home/zli3/PyTorch/lib/python3.9/site-packages (from open3d) (0.37.1)\n",
      "Requirement already satisfied: pygments>=2.7.4 in /home/zli3/PyTorch/lib/python3.9/site-packages (from open3d) (2.13.0)\n",
      "Requirement already satisfied: numpy>=1.18.0 in /home/zli3/PyTorch/lib/python3.9/site-packages (from open3d) (1.23.3)\n",
      "Requirement already satisfied: pillow>=8.2.0 in /home/zli3/PyTorch/lib/python3.9/site-packages (from open3d) (9.2.0)\n",
      "Collecting pandas>=1.0\n",
      "  Downloading pandas-1.5.0-cp39-cp39-manylinux_2_17_x86_64.manylinux2014_x86_64.whl (12.2 MB)\n",
      "\u001b[2K     \u001b[38;2;114;156;31m━━━━━━━━━━━━━━━━━━━━━━━━━━━━━━━━━━━━━━━━\u001b[0m \u001b[32m12.2/12.2 MB\u001b[0m \u001b[31m46.3 MB/s\u001b[0m eta \u001b[36m0:00:00\u001b[0mm eta \u001b[36m0:00:01\u001b[0m[36m0:00:01\u001b[0m\n",
      "\u001b[?25hRequirement already satisfied: setuptools>=40.8.0 in /home/zli3/PyTorch/lib/python3.9/site-packages (from open3d) (58.1.0)\n",
      "Collecting pyquaternion\n",
      "  Downloading pyquaternion-0.9.9-py3-none-any.whl (14 kB)\n",
      "Collecting addict\n",
      "  Downloading addict-2.4.0-py3-none-any.whl (3.8 kB)\n",
      "Requirement already satisfied: ipywidgets>=7.6.0 in /home/zli3/PyTorch/lib/python3.9/site-packages (from open3d) (8.0.2)\n",
      "Collecting jupyter-packaging~=0.10\n",
      "  Downloading jupyter_packaging-0.12.3-py3-none-any.whl (15 kB)\n",
      "Requirement already satisfied: matplotlib>=3 in /home/zli3/PyTorch/lib/python3.9/site-packages (from open3d) (3.6.1)\n",
      "Requirement already satisfied: packaging in /home/zli3/PyTorch/lib/python3.9/site-packages (from jupyterlab==3.*,>=3.0.0->open3d) (21.3)\n",
      "Collecting jupyterlab-server~=2.10\n",
      "  Downloading jupyterlab_server-2.16.0-py3-none-any.whl (54 kB)\n",
      "\u001b[2K     \u001b[38;2;114;156;31m━━━━━━━━━━━━━━━━━━━━━━━━━━━━━━━━━━━━━━━━\u001b[0m \u001b[32m54.1/54.1 KB\u001b[0m \u001b[31m3.3 MB/s\u001b[0m eta \u001b[36m0:00:00\u001b[0m\n",
      "\u001b[?25hRequirement already satisfied: tornado>=6.1.0 in /home/zli3/PyTorch/lib/python3.9/site-packages (from jupyterlab==3.*,>=3.0.0->open3d) (6.2)\n",
      "Requirement already satisfied: notebook<7 in /home/zli3/PyTorch/lib/python3.9/site-packages (from jupyterlab==3.*,>=3.0.0->open3d) (6.4.12)\n",
      "Collecting nbclassic\n",
      "  Downloading nbclassic-0.4.6-py3-none-any.whl (9.8 MB)\n",
      "\u001b[2K     \u001b[38;2;114;156;31m━━━━━━━━━━━━━━━━━━━━━━━━━━━━━━━━━━━━━━━━\u001b[0m \u001b[32m9.8/9.8 MB\u001b[0m \u001b[31m51.5 MB/s\u001b[0m eta \u001b[36m0:00:00\u001b[0m0m eta \u001b[36m0:00:01\u001b[0m0:01\u001b[0m\n",
      "\u001b[?25hCollecting tomli\n",
      "  Using cached tomli-2.0.1-py3-none-any.whl (12 kB)\n",
      "Requirement already satisfied: ipython in /home/zli3/PyTorch/lib/python3.9/site-packages (from jupyterlab==3.*,>=3.0.0->open3d) (8.5.0)\n",
      "Requirement already satisfied: jinja2>=2.1 in /home/zli3/PyTorch/lib/python3.9/site-packages (from jupyterlab==3.*,>=3.0.0->open3d) (3.1.2)\n",
      "Collecting jupyter-server~=1.16\n",
      "  Downloading jupyter_server-1.21.0-py3-none-any.whl (346 kB)\n",
      "\u001b[2K     \u001b[38;2;114;156;31m━━━━━━━━━━━━━━━━━━━━━━━━━━━━━━━━━━━━━━\u001b[0m \u001b[32m346.5/346.5 KB\u001b[0m \u001b[31m18.8 MB/s\u001b[0m eta \u001b[36m0:00:00\u001b[0m\n",
      "\u001b[?25hRequirement already satisfied: jupyter-core in /home/zli3/PyTorch/lib/python3.9/site-packages (from jupyterlab==3.*,>=3.0.0->open3d) (4.11.1)\n",
      "Requirement already satisfied: jupyterlab-widgets~=3.0 in /home/zli3/PyTorch/lib/python3.9/site-packages (from ipywidgets>=7.6.0->open3d) (3.0.3)\n",
      "Requirement already satisfied: widgetsnbextension~=4.0 in /home/zli3/PyTorch/lib/python3.9/site-packages (from ipywidgets>=7.6.0->open3d) (4.0.3)\n",
      "Requirement already satisfied: ipykernel>=4.5.1 in /home/zli3/PyTorch/lib/python3.9/site-packages (from ipywidgets>=7.6.0->open3d) (6.16.0)\n",
      "Requirement already satisfied: traitlets>=4.3.1 in /home/zli3/PyTorch/lib/python3.9/site-packages (from ipywidgets>=7.6.0->open3d) (5.4.0)\n",
      "Collecting setuptools>=40.8.0\n",
      "  Downloading setuptools-65.5.0-py3-none-any.whl (1.2 MB)\n",
      "\u001b[2K     \u001b[38;2;114;156;31m━━━━━━━━━━━━━━━━━━━━━━━━━━━━━━━━━━━━━━━━\u001b[0m \u001b[32m1.2/1.2 MB\u001b[0m \u001b[31m29.8 MB/s\u001b[0m eta \u001b[36m0:00:00\u001b[0m0m eta \u001b[36m0:00:01\u001b[0m\n",
      "\u001b[?25hCollecting tomlkit\n",
      "  Downloading tomlkit-0.11.5-py3-none-any.whl (35 kB)\n",
      "Collecting deprecation\n",
      "  Downloading deprecation-2.1.0-py2.py3-none-any.whl (11 kB)\n",
      "Requirement already satisfied: python-dateutil>=2.7 in /home/zli3/PyTorch/lib/python3.9/site-packages (from matplotlib>=3->open3d) (2.8.2)\n",
      "Requirement already satisfied: pyparsing>=2.2.1 in /home/zli3/PyTorch/lib/python3.9/site-packages (from matplotlib>=3->open3d) (3.0.9)\n",
      "Requirement already satisfied: kiwisolver>=1.0.1 in /home/zli3/PyTorch/lib/python3.9/site-packages (from matplotlib>=3->open3d) (1.4.4)\n",
      "Requirement already satisfied: cycler>=0.10 in /home/zli3/PyTorch/lib/python3.9/site-packages (from matplotlib>=3->open3d) (0.11.0)\n",
      "Requirement already satisfied: fonttools>=4.22.0 in /home/zli3/PyTorch/lib/python3.9/site-packages (from matplotlib>=3->open3d) (4.37.4)\n",
      "Requirement already satisfied: contourpy>=1.0.1 in /home/zli3/PyTorch/lib/python3.9/site-packages (from matplotlib>=3->open3d) (1.0.5)\n",
      "Collecting pytz>=2020.1\n",
      "  Downloading pytz-2022.4-py2.py3-none-any.whl (500 kB)\n",
      "\u001b[2K     \u001b[38;2;114;156;31m━━━━━━━━━━━━━━━━━━━━━━━━━━━━━━━━━━━━━━\u001b[0m \u001b[32m500.8/500.8 KB\u001b[0m \u001b[31m24.0 MB/s\u001b[0m eta \u001b[36m0:00:00\u001b[0m\n",
      "\u001b[?25hCollecting threadpoolctl>=2.0.0\n",
      "  Downloading threadpoolctl-3.1.0-py3-none-any.whl (14 kB)\n",
      "Collecting scipy>=1.3.2\n",
      "  Downloading scipy-1.9.2-cp39-cp39-manylinux_2_17_x86_64.manylinux2014_x86_64.whl (33.8 MB)\n",
      "\u001b[2K     \u001b[38;2;114;156;31m━━━━━━━━━━━━━━━━━━━━━━━━━━━━━━━━━━━━━━━━\u001b[0m \u001b[32m33.8/33.8 MB\u001b[0m \u001b[31m23.7 MB/s\u001b[0m eta \u001b[36m0:00:00\u001b[0mm eta \u001b[36m0:00:01\u001b[0m0:01\u001b[0m:01\u001b[0m\n",
      "\u001b[?25hCollecting joblib>=1.0.0\n",
      "  Downloading joblib-1.2.0-py3-none-any.whl (297 kB)\n",
      "\u001b[2K     \u001b[38;2;114;156;31m━━━━━━━━━━━━━━━━━━━━━━━━━━━━━━━━━━━━━━\u001b[0m \u001b[32m298.0/298.0 KB\u001b[0m \u001b[31m18.9 MB/s\u001b[0m eta \u001b[36m0:00:00\u001b[0m\n",
      "\u001b[?25hRequirement already satisfied: psutil in /home/zli3/PyTorch/lib/python3.9/site-packages (from ipykernel>=4.5.1->ipywidgets>=7.6.0->open3d) (5.9.2)\n",
      "Requirement already satisfied: pyzmq>=17 in /home/zli3/PyTorch/lib/python3.9/site-packages (from ipykernel>=4.5.1->ipywidgets>=7.6.0->open3d) (24.0.1)\n",
      "Requirement already satisfied: debugpy>=1.0 in /home/zli3/PyTorch/lib/python3.9/site-packages (from ipykernel>=4.5.1->ipywidgets>=7.6.0->open3d) (1.6.3)\n",
      "Requirement already satisfied: matplotlib-inline>=0.1 in /home/zli3/PyTorch/lib/python3.9/site-packages (from ipykernel>=4.5.1->ipywidgets>=7.6.0->open3d) (0.1.6)\n",
      "Requirement already satisfied: jupyter-client>=6.1.12 in /home/zli3/PyTorch/lib/python3.9/site-packages (from ipykernel>=4.5.1->ipywidgets>=7.6.0->open3d) (7.3.5)\n",
      "Requirement already satisfied: nest-asyncio in /home/zli3/PyTorch/lib/python3.9/site-packages (from ipykernel>=4.5.1->ipywidgets>=7.6.0->open3d) (1.5.6)\n",
      "Requirement already satisfied: backcall in /home/zli3/PyTorch/lib/python3.9/site-packages (from ipython->jupyterlab==3.*,>=3.0.0->open3d) (0.2.0)\n",
      "Requirement already satisfied: prompt-toolkit<3.1.0,>3.0.1 in /home/zli3/PyTorch/lib/python3.9/site-packages (from ipython->jupyterlab==3.*,>=3.0.0->open3d) (3.0.31)\n",
      "Requirement already satisfied: jedi>=0.16 in /home/zli3/PyTorch/lib/python3.9/site-packages (from ipython->jupyterlab==3.*,>=3.0.0->open3d) (0.18.1)\n",
      "Requirement already satisfied: decorator in /home/zli3/PyTorch/lib/python3.9/site-packages (from ipython->jupyterlab==3.*,>=3.0.0->open3d) (5.1.1)\n",
      "Requirement already satisfied: pickleshare in /home/zli3/PyTorch/lib/python3.9/site-packages (from ipython->jupyterlab==3.*,>=3.0.0->open3d) (0.7.5)\n",
      "Requirement already satisfied: pexpect>4.3 in /home/zli3/PyTorch/lib/python3.9/site-packages (from ipython->jupyterlab==3.*,>=3.0.0->open3d) (4.8.0)\n",
      "Requirement already satisfied: stack-data in /home/zli3/PyTorch/lib/python3.9/site-packages (from ipython->jupyterlab==3.*,>=3.0.0->open3d) (0.5.1)\n",
      "Requirement already satisfied: MarkupSafe>=2.0 in /home/zli3/PyTorch/lib/python3.9/site-packages (from jinja2>=2.1->jupyterlab==3.*,>=3.0.0->open3d) (2.1.1)\n",
      "Requirement already satisfied: prometheus-client in /home/zli3/PyTorch/lib/python3.9/site-packages (from jupyter-server~=1.16->jupyterlab==3.*,>=3.0.0->open3d) (0.14.1)\n",
      "Requirement already satisfied: Send2Trash in /home/zli3/PyTorch/lib/python3.9/site-packages (from jupyter-server~=1.16->jupyterlab==3.*,>=3.0.0->open3d) (1.8.0)\n",
      "Requirement already satisfied: nbconvert>=6.4.4 in /home/zli3/PyTorch/lib/python3.9/site-packages (from jupyter-server~=1.16->jupyterlab==3.*,>=3.0.0->open3d) (7.0.0)\n"
     ]
    },
    {
     "name": "stdout",
     "output_type": "stream",
     "text": [
      "Collecting websocket-client\n",
      "  Using cached websocket_client-1.4.1-py3-none-any.whl (55 kB)\n",
      "Requirement already satisfied: argon2-cffi in /home/zli3/PyTorch/lib/python3.9/site-packages (from jupyter-server~=1.16->jupyterlab==3.*,>=3.0.0->open3d) (21.3.0)\n",
      "Requirement already satisfied: terminado>=0.8.3 in /home/zli3/PyTorch/lib/python3.9/site-packages (from jupyter-server~=1.16->jupyterlab==3.*,>=3.0.0->open3d) (0.16.0)\n",
      "Collecting anyio<4,>=3.1.0\n",
      "  Using cached anyio-3.6.1-py3-none-any.whl (80 kB)\n",
      "Requirement already satisfied: nbformat>=5.2.0 in /home/zli3/PyTorch/lib/python3.9/site-packages (from jupyter-server~=1.16->jupyterlab==3.*,>=3.0.0->open3d) (5.6.1)\n",
      "Requirement already satisfied: requests in /home/zli3/PyTorch/lib/python3.9/site-packages (from jupyterlab-server~=2.10->jupyterlab==3.*,>=3.0.0->open3d) (2.28.1)\n",
      "Collecting json5\n",
      "  Using cached json5-0.9.10-py2.py3-none-any.whl (19 kB)\n",
      "Collecting babel\n",
      "  Using cached Babel-2.10.3-py3-none-any.whl (9.5 MB)\n",
      "Requirement already satisfied: importlib-metadata>=4.8.3 in /home/zli3/PyTorch/lib/python3.9/site-packages (from jupyterlab-server~=2.10->jupyterlab==3.*,>=3.0.0->open3d) (4.12.0)\n",
      "Requirement already satisfied: jsonschema>=3.0.1 in /home/zli3/PyTorch/lib/python3.9/site-packages (from jupyterlab-server~=2.10->jupyterlab==3.*,>=3.0.0->open3d) (4.16.0)\n",
      "Requirement already satisfied: ipython-genutils in /home/zli3/PyTorch/lib/python3.9/site-packages (from notebook<7->jupyterlab==3.*,>=3.0.0->open3d) (0.2.0)\n",
      "Requirement already satisfied: six>=1.5 in /home/zli3/PyTorch/lib/python3.9/site-packages (from python-dateutil>=2.7->matplotlib>=3->open3d) (1.16.0)\n",
      "Collecting notebook-shim>=0.1.0\n",
      "  Using cached notebook_shim-0.1.0-py3-none-any.whl (13 kB)\n",
      "Collecting sniffio>=1.1\n",
      "  Using cached sniffio-1.3.0-py3-none-any.whl (10 kB)\n",
      "Requirement already satisfied: idna>=2.8 in /home/zli3/PyTorch/lib/python3.9/site-packages (from anyio<4,>=3.1.0->jupyter-server~=1.16->jupyterlab==3.*,>=3.0.0->open3d) (3.4)\n",
      "Requirement already satisfied: zipp>=0.5 in /home/zli3/PyTorch/lib/python3.9/site-packages (from importlib-metadata>=4.8.3->jupyterlab-server~=2.10->jupyterlab==3.*,>=3.0.0->open3d) (3.8.1)\n",
      "Requirement already satisfied: parso<0.9.0,>=0.8.0 in /home/zli3/PyTorch/lib/python3.9/site-packages (from jedi>=0.16->ipython->jupyterlab==3.*,>=3.0.0->open3d) (0.8.3)\n",
      "Requirement already satisfied: pyrsistent!=0.17.0,!=0.17.1,!=0.17.2,>=0.14.0 in /home/zli3/PyTorch/lib/python3.9/site-packages (from jsonschema>=3.0.1->jupyterlab-server~=2.10->jupyterlab==3.*,>=3.0.0->open3d) (0.18.1)\n",
      "Requirement already satisfied: attrs>=17.4.0 in /home/zli3/PyTorch/lib/python3.9/site-packages (from jsonschema>=3.0.1->jupyterlab-server~=2.10->jupyterlab==3.*,>=3.0.0->open3d) (22.1.0)\n",
      "Requirement already satisfied: entrypoints in /home/zli3/PyTorch/lib/python3.9/site-packages (from jupyter-client>=6.1.12->ipykernel>=4.5.1->ipywidgets>=7.6.0->open3d) (0.4)\n",
      "Requirement already satisfied: lxml in /home/zli3/PyTorch/lib/python3.9/site-packages (from nbconvert>=6.4.4->jupyter-server~=1.16->jupyterlab==3.*,>=3.0.0->open3d) (4.9.1)\n",
      "Requirement already satisfied: nbclient>=0.5.0 in /home/zli3/PyTorch/lib/python3.9/site-packages (from nbconvert>=6.4.4->jupyter-server~=1.16->jupyterlab==3.*,>=3.0.0->open3d) (0.6.8)\n",
      "Requirement already satisfied: jupyterlab-pygments in /home/zli3/PyTorch/lib/python3.9/site-packages (from nbconvert>=6.4.4->jupyter-server~=1.16->jupyterlab==3.*,>=3.0.0->open3d) (0.2.2)\n",
      "Requirement already satisfied: tinycss2 in /home/zli3/PyTorch/lib/python3.9/site-packages (from nbconvert>=6.4.4->jupyter-server~=1.16->jupyterlab==3.*,>=3.0.0->open3d) (1.1.1)\n",
      "Requirement already satisfied: bleach in /home/zli3/PyTorch/lib/python3.9/site-packages (from nbconvert>=6.4.4->jupyter-server~=1.16->jupyterlab==3.*,>=3.0.0->open3d) (5.0.1)\n",
      "Requirement already satisfied: mistune<3,>=2.0.3 in /home/zli3/PyTorch/lib/python3.9/site-packages (from nbconvert>=6.4.4->jupyter-server~=1.16->jupyterlab==3.*,>=3.0.0->open3d) (2.0.4)\n",
      "Requirement already satisfied: pandocfilters>=1.4.1 in /home/zli3/PyTorch/lib/python3.9/site-packages (from nbconvert>=6.4.4->jupyter-server~=1.16->jupyterlab==3.*,>=3.0.0->open3d) (1.5.0)\n",
      "Requirement already satisfied: defusedxml in /home/zli3/PyTorch/lib/python3.9/site-packages (from nbconvert>=6.4.4->jupyter-server~=1.16->jupyterlab==3.*,>=3.0.0->open3d) (0.7.1)\n",
      "Requirement already satisfied: beautifulsoup4 in /home/zli3/PyTorch/lib/python3.9/site-packages (from nbconvert>=6.4.4->jupyter-server~=1.16->jupyterlab==3.*,>=3.0.0->open3d) (4.11.1)\n",
      "Requirement already satisfied: fastjsonschema in /home/zli3/PyTorch/lib/python3.9/site-packages (from nbformat>=5.2.0->jupyter-server~=1.16->jupyterlab==3.*,>=3.0.0->open3d) (2.16.2)\n",
      "Requirement already satisfied: ptyprocess>=0.5 in /home/zli3/PyTorch/lib/python3.9/site-packages (from pexpect>4.3->ipython->jupyterlab==3.*,>=3.0.0->open3d) (0.7.0)\n",
      "Requirement already satisfied: wcwidth in /home/zli3/PyTorch/lib/python3.9/site-packages (from prompt-toolkit<3.1.0,>3.0.1->ipython->jupyterlab==3.*,>=3.0.0->open3d) (0.2.5)\n",
      "Requirement already satisfied: argon2-cffi-bindings in /home/zli3/PyTorch/lib/python3.9/site-packages (from argon2-cffi->jupyter-server~=1.16->jupyterlab==3.*,>=3.0.0->open3d) (21.2.0)\n",
      "Requirement already satisfied: charset-normalizer<3,>=2 in /home/zli3/PyTorch/lib/python3.9/site-packages (from requests->jupyterlab-server~=2.10->jupyterlab==3.*,>=3.0.0->open3d) (2.1.1)\n",
      "Requirement already satisfied: certifi>=2017.4.17 in /home/zli3/PyTorch/lib/python3.9/site-packages (from requests->jupyterlab-server~=2.10->jupyterlab==3.*,>=3.0.0->open3d) (2022.9.24)\n",
      "Requirement already satisfied: urllib3<1.27,>=1.21.1 in /home/zli3/PyTorch/lib/python3.9/site-packages (from requests->jupyterlab-server~=2.10->jupyterlab==3.*,>=3.0.0->open3d) (1.26.12)\n",
      "Requirement already satisfied: executing in /home/zli3/PyTorch/lib/python3.9/site-packages (from stack-data->ipython->jupyterlab==3.*,>=3.0.0->open3d) (1.1.0)\n",
      "Requirement already satisfied: asttokens in /home/zli3/PyTorch/lib/python3.9/site-packages (from stack-data->ipython->jupyterlab==3.*,>=3.0.0->open3d) (2.0.8)\n",
      "Requirement already satisfied: pure-eval in /home/zli3/PyTorch/lib/python3.9/site-packages (from stack-data->ipython->jupyterlab==3.*,>=3.0.0->open3d) (0.2.2)\n",
      "Requirement already satisfied: cffi>=1.0.1 in /home/zli3/PyTorch/lib/python3.9/site-packages (from argon2-cffi-bindings->argon2-cffi->jupyter-server~=1.16->jupyterlab==3.*,>=3.0.0->open3d) (1.15.1)\n",
      "Requirement already satisfied: soupsieve>1.2 in /home/zli3/PyTorch/lib/python3.9/site-packages (from beautifulsoup4->nbconvert>=6.4.4->jupyter-server~=1.16->jupyterlab==3.*,>=3.0.0->open3d) (2.3.2.post1)\n",
      "Requirement already satisfied: webencodings in /home/zli3/PyTorch/lib/python3.9/site-packages (from bleach->nbconvert>=6.4.4->jupyter-server~=1.16->jupyterlab==3.*,>=3.0.0->open3d) (0.5.1)\n",
      "Requirement already satisfied: pycparser in /home/zli3/PyTorch/lib/python3.9/site-packages (from cffi>=1.0.1->argon2-cffi-bindings->argon2-cffi->jupyter-server~=1.16->jupyterlab==3.*,>=3.0.0->open3d) (2.21)\n",
      "Installing collected packages: pytz, json5, addict, websocket-client, tomlkit, tomli, threadpoolctl, sniffio, setuptools, scipy, pyquaternion, joblib, babel, scikit-learn, pandas, deprecation, anyio, jupyter-packaging, jupyter-server, notebook-shim, jupyterlab-server, nbclassic, jupyterlab, open3d\n",
      "  Attempting uninstall: setuptools\n",
      "    Found existing installation: setuptools 58.1.0\n",
      "    Uninstalling setuptools-58.1.0:\n"
     ]
    }
   ],
   "source": [
    "!pip install open3d\n",
    "import open3d as o3d"
   ]
  },
  {
   "cell_type": "code",
   "execution_count": 3,
   "metadata": {},
   "outputs": [],
   "source": [
    "pcd = o3d.io.read_point_cloud(\"bunny.ply\")"
   ]
  },
  {
   "cell_type": "code",
   "execution_count": 4,
   "metadata": {},
   "outputs": [
    {
     "name": "stdout",
     "output_type": "stream",
     "text": [
      "PointCloud with 40251 points.\n"
     ]
    }
   ],
   "source": [
    "print(pcd)"
   ]
  },
  {
   "cell_type": "code",
   "execution_count": 5,
   "metadata": {},
   "outputs": [
    {
     "name": "stdout",
     "output_type": "stream",
     "text": [
      "\u001b[1;33m[Open3D WARNING] GLFW Error: Cocoa: Failed to find service port for display\u001b[0;m\n",
      "\u001b[1;33m[Open3D WARNING] GLFW Error: Cocoa: Failed to find service port for display\u001b[0;m\n"
     ]
    }
   ],
   "source": [
    "o3d.visualization.draw_geometries([pcd])"
   ]
  }
 ],
 "metadata": {
  "kernelspec": {
   "display_name": "Python 3 (ipykernel)",
   "language": "python",
   "name": "python3"
  },
  "language_info": {
   "codemirror_mode": {
    "name": "ipython",
    "version": 3
   },
   "file_extension": ".py",
   "mimetype": "text/x-python",
   "name": "python",
   "nbconvert_exporter": "python",
   "pygments_lexer": "ipython3",
   "version": "3.9.12"
  },
  "vscode": {
   "interpreter": {
    "hash": "a665b5d41d17b532ea9890333293a1b812fa0b73c9c25c950b3cedf1bebd0438"
   }
  }
 },
 "nbformat": 4,
 "nbformat_minor": 2
}
