{
 "cells": [
  {
   "cell_type": "markdown",
   "id": "0a122dec-c26d-4911-8c01-64f7878596d4",
   "metadata": {},
   "source": [
    "# Introduction\n",
    "  \n",
    "This notebook comprises the following sections:\n",
    "* 1.Torch tensor\n",
    "* 2.Numpy array vs tensor \n",
    "* 3.PILToTensor and torchshow\n"
   ]
  },
  {
   "cell_type": "code",
   "execution_count": null,
   "id": "e8d8e8db-75cc-4868-828a-0462f1f0d9a1",
   "metadata": {},
   "outputs": [],
   "source": [
    "import sys\n",
    "sys.path"
   ]
  },
  {
   "cell_type": "code",
   "execution_count": null,
   "id": "852f8827-a2fb-449a-a3f8-1642fdad71a4",
   "metadata": {},
   "outputs": [],
   "source": [
    "!type -a pip"
   ]
  },
  {
   "cell_type": "code",
   "execution_count": null,
   "id": "791f64f2-2bed-4362-a507-1802e5570c0b",
   "metadata": {},
   "outputs": [],
   "source": [
    "!type -a python"
   ]
  },
  {
   "cell_type": "code",
   "execution_count": null,
   "id": "45a5ad88-6346-44c1-b38c-0b28b8f952de",
   "metadata": {},
   "outputs": [],
   "source": [
    "!conda env list"
   ]
  },
  {
   "cell_type": "markdown",
   "id": "c0ff29a5-8e50-4094-bd82-159bb9d6d8a4",
   "metadata": {},
   "source": [
    "## 1.Torch tensor"
   ]
  },
  {
   "cell_type": "markdown",
   "id": "5616b7d0-0e6b-4101-8625-2aed79289762",
   "metadata": {},
   "source": [
    "### Introduction to Tensors"
   ]
  },
  {
   "cell_type": "markdown",
   "id": "6936fdc7-1c89-4810-9abc-ca4a38dcafc1",
   "metadata": {},
   "source": [
    "Pytorch tensors are created using torch.Tensor\n",
    ">Understand that a tensor can represent any shape of data\n",
    "- scaler: a single number\n",
    "- vector: an array of numbers\n",
    "- matrix: a 2-dimensional array of numbers\n",
    "- tensor: an n-dimensional array of numbers"
   ]
  },
  {
   "cell_type": "code",
   "execution_count": null,
   "id": "0aa9cee7",
   "metadata": {},
   "outputs": [],
   "source": [
    "# make sure you are under a env that have torch installed\n",
    "%%bash\n",
    "pip install torch"
   ]
  },
  {
   "cell_type": "code",
   "execution_count": null,
   "id": "8ab5c634-df18-47d9-bdd2-a158aefc1c11",
   "metadata": {},
   "outputs": [],
   "source": [
    "import torch\n",
    "scaler = torch.tensor(8)"
   ]
  },
  {
   "cell_type": "code",
   "execution_count": null,
   "id": "1eadbfb2-69e8-479d-842b-249d87cf6b89",
   "metadata": {},
   "outputs": [],
   "source": [
    "scaler\n",
    "\n",
    "scaler.ndim"
   ]
  },
  {
   "cell_type": "code",
   "execution_count": null,
   "id": "2f5dcb5c-8bb2-4540-ab3c-913a0d966918",
   "metadata": {},
   "outputs": [],
   "source": [
    "vector = torch.tensor([7,7])"
   ]
  },
  {
   "cell_type": "code",
   "execution_count": null,
   "id": "1daa5c09-4ddc-4ef5-b1e4-099b8d495ca5",
   "metadata": {},
   "outputs": [],
   "source": [
    "vector"
   ]
  },
  {
   "cell_type": "code",
   "execution_count": null,
   "id": "3b5792b0-17f8-40ed-9f4f-6ad2e4c262b2",
   "metadata": {},
   "outputs": [],
   "source": [
    "vector.ndim"
   ]
  },
  {
   "cell_type": "code",
   "execution_count": null,
   "id": "f2d3a7b6",
   "metadata": {},
   "outputs": [],
   "source": [
    "vector.shape"
   ]
  },
  {
   "cell_type": "code",
   "execution_count": null,
   "id": "6a9ed1d3",
   "metadata": {},
   "outputs": [],
   "source": []
  },
  {
   "cell_type": "code",
   "execution_count": null,
   "id": "1389adb6-bf6b-49e7-a8be-a36ec06fe26f",
   "metadata": {},
   "outputs": [],
   "source": [
    "one_to_ten = torch.arange(start=1, end=11, step=1)\n",
    "ten_zeros = torch.zeros_like(input=one_to_ten)"
   ]
  },
  {
   "cell_type": "code",
   "execution_count": null,
   "id": "8e8ebab7-1609-4459-a790-780bf21e5865",
   "metadata": {},
   "outputs": [],
   "source": [
    "ten_zeros"
   ]
  },
  {
   "cell_type": "markdown",
   "id": "e78c91b0-45ba-4fd4-9aa6-c92392b4e88f",
   "metadata": {},
   "source": [
    "### Tensor datatypes\n",
    "**Note** Tensor datatypes is one of the 3 big issues with PyTorch & Deep Learning\n",
    "1. Tensors not right datatype\n",
    "2. Tensors not right shape\n",
    "3. Tensors not on the right device (cpu/gpu/cuda)"
   ]
  },
  {
   "cell_type": "code",
   "execution_count": null,
   "id": "5c95566e-1bad-468c-8ddc-3f1411917f7c",
   "metadata": {},
   "outputs": [],
   "source": [
    "float_32_tensor = torch.tensor([12.0, 16.0, 19.0], \n",
    "                               dtype=torch.float32, \n",
    "                               device=None, \n",
    "                               requires_grad=False)"
   ]
  },
  {
   "cell_type": "code",
   "execution_count": null,
   "id": "ec395ae7-6950-4a8f-a98f-932aade0e9a8",
   "metadata": {},
   "outputs": [],
   "source": [
    "float_32_tensor.dtype"
   ]
  },
  {
   "cell_type": "markdown",
   "id": "04cb05d5-d202-4fed-8c07-274ea868c086",
   "metadata": {},
   "source": [
    "If you want to know more about the datatype that tensor support, you can go to the torch official document use the following link:\n",
    "https://pytorch.org/docs/stable/tensors.html"
   ]
  },
  {
   "cell_type": "code",
   "execution_count": null,
   "id": "41b9ae9e-0954-482d-997b-aaf92d7e7323",
   "metadata": {},
   "outputs": [],
   "source": [
    "int32_tensor = torch.tensor([3,6,9], dtype=torch.int32)\n",
    "int32_tensor"
   ]
  },
  {
   "cell_type": "code",
   "execution_count": null,
   "id": "a0a4a3d2-04da-43b0-84a6-c8984d82a0f9",
   "metadata": {},
   "outputs": [],
   "source": [
    "A = float_32_tensor * int32_tensor # set the right datatype"
   ]
  },
  {
   "cell_type": "code",
   "execution_count": null,
   "id": "9e61d3f9",
   "metadata": {},
   "outputs": [],
   "source": [
    "A.dtype"
   ]
  },
  {
   "cell_type": "code",
   "execution_count": null,
   "id": "fea2c891-a8ae-4509-95d1-9511f2718327",
   "metadata": {},
   "outputs": [],
   "source": [
    "int_32_tensor = torch.tensor([10,12,16], dtype=torch.long)\n",
    "int_32_tensor"
   ]
  },
  {
   "cell_type": "code",
   "execution_count": null,
   "id": "5cec1f70-2dd8-4560-9e8e-dd7741c89c75",
   "metadata": {},
   "outputs": [],
   "source": [
    "float_32_tensor * int_32_tensor"
   ]
  },
  {
   "cell_type": "markdown",
   "id": "3abe31a2-561e-476f-b2d1-f15ab1370fe1",
   "metadata": {},
   "source": [
    "### Getting information from tensors\n",
    "1. Tensors not right datatype - to get the datatype from a tensor, can use tensor.dtype\n",
    "2. Tensors not right shape - tensor.shape\n",
    "3. Tensors not on the right device (cpu/gpu/cuda) - tensor.device"
   ]
  },
  {
   "cell_type": "code",
   "execution_count": null,
   "id": "449e0df1-6cd3-40d0-946f-4dab1506d5e7",
   "metadata": {},
   "outputs": [],
   "source": [
    "# create a tensor\n",
    "rand_t = torch.rand(3,4)\n",
    "rand_t"
   ]
  },
  {
   "cell_type": "code",
   "execution_count": null,
   "id": "cc0ff058-5791-4388-a5a4-3f451a7e5349",
   "metadata": {},
   "outputs": [],
   "source": [
    "rand_t.dtype"
   ]
  },
  {
   "cell_type": "code",
   "execution_count": null,
   "id": "9d7c4be0-2af6-4e8b-a203-57915a84a672",
   "metadata": {},
   "outputs": [],
   "source": [
    "rand_t.device"
   ]
  },
  {
   "cell_type": "code",
   "execution_count": null,
   "id": "afa99e89-35d9-40af-b4b4-e9ac0ffe9821",
   "metadata": {},
   "outputs": [],
   "source": [
    "rand_t.shape"
   ]
  },
  {
   "cell_type": "markdown",
   "id": "faefa7c4-c95b-493d-8c4e-97bbc1ccaec1",
   "metadata": {},
   "source": [
    "### Tensor Device\n",
    "Pytorch tensors can be stored on two devices, namely CPU & GPU. When no device is specified, Pytorch will store tensors on CPU by default; if you want to transfer tensors to GPU, you need to specify tensors to transfer to GPU device."
   ]
  },
  {
   "cell_type": "code",
   "execution_count": null,
   "id": "c9ab52bd-a3ee-4f55-99cc-e1d8f0ba8d1e",
   "metadata": {},
   "outputs": [],
   "source": [
    "import torch\n",
    "torch.randn(3,3, device=\"cuda:0\")       # create a tensor that is stored on GPU 0\n",
    "\n",
    "torch.randn(3,3, device=\"cuda:0\").cpu() # switch from GPU to CPU storage"
   ]
  },
  {
   "cell_type": "markdown",
   "id": "59db7e18-7bde-4aab-b9e6-a7c02d1fe611",
   "metadata": {},
   "source": [
    "### Manipulating tensors (tensor operations)\n",
    "Tensor operations include\n",
    "* Addition\n",
    "* Substraction\n",
    "* Multiplication (element-wise)\n",
    "* Division\n",
    "* Matrix Multiplication"
   ]
  },
  {
   "cell_type": "code",
   "execution_count": null,
   "id": "466ee651-43a4-42e5-88d8-3ba92fd0b1b3",
   "metadata": {},
   "outputs": [],
   "source": [
    "tensor1 = torch.tensor([3,4,5])\n",
    "tensor1+10 # or use a in-built function torch.add"
   ]
  },
  {
   "cell_type": "code",
   "execution_count": null,
   "id": "da048cfb-9667-451a-a0c9-da84d8bf1d50",
   "metadata": {},
   "outputs": [],
   "source": [
    "tensor = tensor1*10"
   ]
  },
  {
   "cell_type": "code",
   "execution_count": null,
   "id": "efaa2529-1adc-4eb5-8701-9a691b258b51",
   "metadata": {},
   "outputs": [],
   "source": [
    "tensor1"
   ]
  },
  {
   "cell_type": "code",
   "execution_count": null,
   "id": "8c206c77-bf33-4770-9dc3-80726fe13c8d",
   "metadata": {},
   "outputs": [],
   "source": [
    "tensor"
   ]
  },
  {
   "cell_type": "code",
   "execution_count": null,
   "id": "003a2218-c981-43f6-b9da-f0991dc252c2",
   "metadata": {},
   "outputs": [],
   "source": [
    "tensor = tensor -10\n",
    "tensor"
   ]
  },
  {
   "cell_type": "code",
   "execution_count": null,
   "id": "b0c75472-f5ca-451c-9935-7e83582f7566",
   "metadata": {},
   "outputs": [],
   "source": [
    "# try a pytorch inbuilt functions\n",
    "torch.mul(tensor, 10)"
   ]
  },
  {
   "cell_type": "markdown",
   "id": "c40159f9-a3fd-4a8c-8eca-476cf4929e45",
   "metadata": {},
   "source": [
    "**Introduction to matrix multiplication**: https://www.mathsisfun.com/algebra/matrix-multiplying.html"
   ]
  },
  {
   "cell_type": "markdown",
   "id": "f52f7cc0-d596-4683-a040-d523dbf4fb72",
   "metadata": {},
   "source": [
    "- Two Main ways for matric multiplication\n",
    "1. Element-wise\n",
    "2. Matrix-mul == dot product"
   ]
  },
  {
   "cell_type": "code",
   "execution_count": null,
   "id": "5db16d0c-b227-423e-8f61-14f293a8bf07",
   "metadata": {},
   "outputs": [],
   "source": [
    "# Element-wise\n",
    "tensor*tensor1"
   ]
  },
  {
   "cell_type": "code",
   "execution_count": null,
   "id": "c38f7c51-ddad-4c45-b6b2-09c1d05e715d",
   "metadata": {},
   "outputs": [],
   "source": [
    "# Matrix multiplication\n",
    "torch.matmul(tensor, tensor)"
   ]
  },
  {
   "cell_type": "code",
   "execution_count": null,
   "id": "fa896471",
   "metadata": {},
   "outputs": [],
   "source": [
    "tensor @ tensor"
   ]
  },
  {
   "cell_type": "markdown",
   "id": "2bba20ab-cc4c-4543-9001-15d39c2d3dec",
   "metadata": {},
   "source": [
    "### Finding the max, min, mean, and sum"
   ]
  },
  {
   "cell_type": "code",
   "execution_count": null,
   "id": "4dff769b-6bb3-4ca0-aadc-cd3e87092496",
   "metadata": {},
   "outputs": [],
   "source": [
    "x = torch.arange(0,100,10)"
   ]
  },
  {
   "cell_type": "code",
   "execution_count": null,
   "id": "77de117c-eb4c-43ab-b47b-4f7e1fa02e9a",
   "metadata": {},
   "outputs": [],
   "source": [
    "x"
   ]
  },
  {
   "cell_type": "code",
   "execution_count": null,
   "id": "1c806582-7b4b-43b2-938b-5db927078152",
   "metadata": {},
   "outputs": [],
   "source": [
    "torch.min(x)"
   ]
  },
  {
   "cell_type": "code",
   "execution_count": null,
   "id": "3f46e183",
   "metadata": {},
   "outputs": [],
   "source": [
    "x.min"
   ]
  },
  {
   "cell_type": "code",
   "execution_count": null,
   "id": "b8d41f21-e732-42cc-9450-321e7779bd92",
   "metadata": {},
   "outputs": [],
   "source": [
    "torch.max(x)"
   ]
  },
  {
   "cell_type": "code",
   "execution_count": null,
   "id": "9aafc1ae-47e5-4cad-94bb-dca22a280ec5",
   "metadata": {},
   "outputs": [],
   "source": [
    "torch.mean(x) # not the right type!\n",
    "#note! the torch.mean() function requires a tensor of float32 datatype to work"
   ]
  },
  {
   "cell_type": "code",
   "execution_count": null,
   "id": "8f8be397-8a18-464d-a68c-c6a80f8dc29a",
   "metadata": {},
   "outputs": [],
   "source": [
    "x.dtype"
   ]
  },
  {
   "cell_type": "code",
   "execution_count": null,
   "id": "612a5118-96b6-48f6-9367-f4c41fe4b4b5",
   "metadata": {},
   "outputs": [],
   "source": [
    "torch.mean(x.type(torch.float32))"
   ]
  },
  {
   "cell_type": "code",
   "execution_count": null,
   "id": "83c1c0c0-8ffe-4143-beca-55a39a154935",
   "metadata": {},
   "outputs": [],
   "source": [
    "torch.sum(x)"
   ]
  },
  {
   "cell_type": "markdown",
   "id": "ebffd6ce-8186-4cac-a606-52d05c32c682",
   "metadata": {},
   "source": [
    "### Reshapeing/Reviewing/Stacking\n",
    "* reshaping - reshape the tensor into a defined shape\n",
    "* reviewing - return a view of an input tensor of certain shape but keep \n",
    "  the same memory as the original tensor\n",
    "* stacking - combine multiple tensors on top of each other (vstack) or side by side\n",
    "* squeeze - remove all '1' dimensions from a tensor\n",
    "* unsqueeze - add a '1' dimension to a target tensor\n",
    "* permute - return a view of the input with dimensions swapped in a certain way"
   ]
  },
  {
   "cell_type": "code",
   "execution_count": null,
   "id": "142c9ef9-9e5c-49a5-b509-332533d04d47",
   "metadata": {},
   "outputs": [],
   "source": [
    "y = torch.arange(1., 10.)\n",
    "y, y.shape"
   ]
  },
  {
   "cell_type": "code",
   "execution_count": null,
   "id": "80b3a3a1-9fb4-40cc-b661-4059a0fe77e4",
   "metadata": {},
   "outputs": [],
   "source": [
    "y_reshaped = y.reshape(1,9)"
   ]
  },
  {
   "cell_type": "code",
   "execution_count": null,
   "id": "55fb0a65-4c18-4837-9eb4-91862d386435",
   "metadata": {},
   "outputs": [],
   "source": [
    "y_reshaped, y_reshaped.shape"
   ]
  },
  {
   "cell_type": "code",
   "execution_count": null,
   "id": "2bc8dae1-2ff0-4643-858d-7cc72e2f41c0",
   "metadata": {},
   "outputs": [],
   "source": [
    "#change the view, the view of a tensor shares the same memory as the original tensor\n",
    "z = y.view(1,9)\n",
    "z,z.shape"
   ]
  },
  {
   "cell_type": "code",
   "execution_count": null,
   "id": "1f3a5da8-4af8-40b2-84a0-981ceff027d9",
   "metadata": {},
   "outputs": [],
   "source": [
    "z[:,7] = 5\n",
    "z,y"
   ]
  },
  {
   "cell_type": "code",
   "execution_count": null,
   "id": "8795d8c5-9dfd-44ed-bf32-7d8613c8d1e2",
   "metadata": {},
   "outputs": [],
   "source": [
    "y_stacked = torch.stack([y,y,y,y],dim=0) #dim1\n",
    "y_stacked"
   ]
  },
  {
   "cell_type": "markdown",
   "id": "bfe29e7d-a4b8-4093-be5c-b7c0e85ed2a8",
   "metadata": {},
   "source": [
    "### Practice other variants of stack, e.g., hstack, vstack"
   ]
  },
  {
   "cell_type": "markdown",
   "id": "adf27b57-d23a-4559-b4ef-d2637b058737",
   "metadata": {},
   "source": [
    "if you are stacked, go to the documentation, look something up,\n",
    "print it out like this quite cumbersome but this is to give us a good \n",
    "explanation for what's happening"
   ]
  },
  {
   "cell_type": "markdown",
   "id": "9635a881-1b79-4b04-b111-a6790db6ad9b",
   "metadata": {},
   "source": [
    "### Indexing (selecting data from tensors)\n",
    "indexing with Pytorch is similar to indexing with numpy"
   ]
  },
  {
   "cell_type": "code",
   "execution_count": null,
   "id": "19369f0c-fe70-4845-9c41-14a067d763a2",
   "metadata": {},
   "outputs": [],
   "source": [
    "import torch\n",
    "x = torch.arange(1, 10).reshape(1,3,3)"
   ]
  },
  {
   "cell_type": "code",
   "execution_count": null,
   "id": "201e4ed8-d20d-4675-9ac7-780a1f09b3a6",
   "metadata": {},
   "outputs": [],
   "source": [
    "x, x.shape"
   ]
  },
  {
   "cell_type": "code",
   "execution_count": null,
   "id": "250ab913-eb36-4697-8a08-f8dd68eea495",
   "metadata": {},
   "outputs": [],
   "source": [
    "x[0]"
   ]
  },
  {
   "cell_type": "code",
   "execution_count": null,
   "id": "f2c7fd25-af9c-4ef6-8aa5-62606f884acf",
   "metadata": {},
   "outputs": [],
   "source": [
    "x[0,0]"
   ]
  },
  {
   "cell_type": "code",
   "execution_count": null,
   "id": "5c675d41-b955-4286-9f3a-e870b76e3333",
   "metadata": {},
   "outputs": [],
   "source": [
    "x[0,:,1]"
   ]
  },
  {
   "cell_type": "code",
   "execution_count": null,
   "id": "adeb1527-932c-40ad-903d-ad2a44057940",
   "metadata": {},
   "outputs": [],
   "source": [
    "x[:,:,0]"
   ]
  },
  {
   "cell_type": "code",
   "execution_count": null,
   "id": "ae220ab5",
   "metadata": {},
   "outputs": [],
   "source": [
    "points = torch.tensor([[4.0, 1.0], [5.0, 3.0], [2.0, 1.0]])\n",
    "points"
   ]
  },
  {
   "cell_type": "code",
   "execution_count": null,
   "id": "192b3204",
   "metadata": {},
   "outputs": [],
   "source": [
    "points[1:]         #index rows except the first row; select all columnes\n",
    "points[1:, :]      #index rows except the first row; select all cols\n",
    "points[1:, 0]      #index rows except the first row; select the first col\n",
    "points[None]       # same as unsqueeze"
   ]
  },
  {
   "cell_type": "code",
   "execution_count": null,
   "id": "dca63b10-3b76-41f6-941a-b973624ce0ea",
   "metadata": {},
   "outputs": [],
   "source": [
    "x = torch.tensor([[[0,5,4],[2,7,3]],[[4,9,2],[6,11,1]]])"
   ]
  },
  {
   "cell_type": "code",
   "execution_count": null,
   "id": "175dc15d-239a-4f6a-bf09-aa4060bbb5cd",
   "metadata": {},
   "outputs": [],
   "source": [
    "x.shape"
   ]
  },
  {
   "cell_type": "code",
   "execution_count": null,
   "id": "84e11c67",
   "metadata": {},
   "outputs": [],
   "source": [
    "x[0,1,:]"
   ]
  },
  {
   "cell_type": "code",
   "execution_count": null,
   "id": "202f55c5",
   "metadata": {},
   "outputs": [],
   "source": [
    "y = x.transpose(1,2) # transpose dim one with dim 2\n",
    "y.shape"
   ]
  },
  {
   "cell_type": "code",
   "execution_count": null,
   "id": "30450311",
   "metadata": {},
   "outputs": [],
   "source": [
    "yy = x.T # whole tensor transpose\n",
    "yy.shape"
   ]
  },
  {
   "cell_type": "code",
   "execution_count": null,
   "id": "442e7d9f",
   "metadata": {},
   "outputs": [],
   "source": [
    "yy"
   ]
  },
  {
   "cell_type": "code",
   "execution_count": null,
   "id": "62756c39-b1ca-4834-a5fc-895e18c89eaa",
   "metadata": {},
   "outputs": [],
   "source": [
    "x.shape"
   ]
  },
  {
   "cell_type": "code",
   "execution_count": null,
   "id": "5524e7ca-ca12-494b-b4a9-8771e20aa193",
   "metadata": {},
   "outputs": [],
   "source": [
    "x[0,1,0]"
   ]
  },
  {
   "cell_type": "code",
   "execution_count": null,
   "id": "ba3a06c2-756c-4884-84b8-def22d25560c",
   "metadata": {},
   "outputs": [],
   "source": [
    "torch.swapaxes(x, 0, 2)"
   ]
  },
  {
   "cell_type": "code",
   "execution_count": null,
   "id": "17f49080-12f0-44ca-8982-58b41ca9e2dd",
   "metadata": {},
   "outputs": [],
   "source": [
    "torch.swapaxes(x, 1, 2)"
   ]
  },
  {
   "cell_type": "markdown",
   "id": "518dcfb4-7843-4367-8eee-0731dec4f97c",
   "metadata": {},
   "source": [
    "## 2. PyTorch tensors vs Numpy arrays\n",
    "\n",
    "> Numpy is a popular scientific Python numerical computing library\n",
    "And because of this, Pytorch has functionality to interact with it.\n",
    "\n",
    "* Data in Numpy, want in PyTorch tensor -> torcg.from_numpy(ndarray)"
   ]
  },
  {
   "cell_type": "code",
   "execution_count": null,
   "id": "4c0a1077-1e9a-4b5f-9462-66ea4be7f83d",
   "metadata": {},
   "outputs": [],
   "source": [
    "#3-rows 2-cols Matrix\n",
    "matrix = torch.tensor([[1,2],[3,4],[5,6]])\n",
    "matrix\n",
    "matrix.shape\n",
    "matrix.ndim"
   ]
  },
  {
   "cell_type": "code",
   "execution_count": null,
   "id": "f20f57a9",
   "metadata": {},
   "outputs": [],
   "source": [
    "# (3x2) matrix with nested brackets\n",
    "import numpy as np\n",
    "xx = np.array([[1,2],[3,4],[5,6]])\n",
    "xx.shape"
   ]
  },
  {
   "cell_type": "code",
   "execution_count": null,
   "id": "88cc82b5-702e-429e-96ef-8a39933cffe3",
   "metadata": {},
   "outputs": [],
   "source": [
    "import numpy as np\n",
    "import torch\n",
    "array = np.arange(1.0, 8.0)\n",
    "tensor = torch.from_numpy(array)\n",
    "array_from_tensor = tensor.numpy()"
   ]
  },
  {
   "cell_type": "markdown",
   "id": "0c9c2a2b",
   "metadata": {},
   "source": [
    "(1) Datetype"
   ]
  },
  {
   "cell_type": "code",
   "execution_count": null,
   "id": "ae789e49-8548-4f65-8956-39a5eeafad9a",
   "metadata": {},
   "outputs": [],
   "source": [
    "array,tensor"
   ]
  },
  {
   "cell_type": "code",
   "execution_count": null,
   "id": "c7f7c1cc-b21c-46a3-9090-b72172e7049b",
   "metadata": {},
   "outputs": [],
   "source": [
    "array.dtype"
   ]
  },
  {
   "cell_type": "code",
   "execution_count": null,
   "id": "21dfe0e6-424b-4f89-86d5-e92a2fa94b5c",
   "metadata": {},
   "outputs": [],
   "source": [
    "torch.arange(1.0, 8.0).dtype"
   ]
  },
  {
   "cell_type": "markdown",
   "id": "a86dd0a7",
   "metadata": {},
   "source": [
    "(2) New tensors\n",
    "\n",
    "Numpy:\n",
    "```\n",
    "zeros  = np.zeros((4, 4))\n",
    "ones   = np.ones((4, 4))\n",
    "random = np.random.random((4, 4))\n",
    "```\n",
    "PyTorch:\n",
    "```\n",
    "zeros  = torch.zeros(4, 4)\n",
    "ones   = torch.ones(4, 4)\n",
    "random = torch.rand(4, 4)\n",
    "```"
   ]
  },
  {
   "cell_type": "markdown",
   "id": "8bef99f2",
   "metadata": {},
   "source": [
    "(3) Multiplication\n",
    "\n",
    "\n",
    "```\n",
    "Numpy:\n",
    "# Element wise\n",
    "array * array\n",
    "\n",
    "# Matrix multiplication\n",
    "array @ array\n",
    "\n",
    "PyTorch:\n",
    "# Element wise\n",
    "tensor * tensor\n",
    "\n",
    "# Matrix multiplication\n",
    "tensor @ tensor\n",
    "```"
   ]
  },
  {
   "cell_type": "markdown",
   "id": "a4095b36",
   "metadata": {},
   "source": [
    "(4) Shape and dimensions\n",
    "```\n",
    "Numpy:\n",
    "\n",
    "shap    = array.shape\n",
    "num_dim = array.ndim\n",
    "\n",
    "PyTorch:\n",
    "\n",
    "shape   = tensor.shape\n",
    "shape   = tensor.size() # equal to `.shape`\n",
    "num_dim = tensor.dim()\n",
    "```"
   ]
  },
  {
   "cell_type": "markdown",
   "id": "dd32bd6c",
   "metadata": {},
   "source": [
    "(5) Reshaping\n",
    "\n",
    "```Numpy:\n",
    "\n",
    "new_array = array.reshape((8, 2))\n",
    "\n",
    "PyTorch:\n",
    "\n",
    "new_tensor = tensor.view(8, 2)\n",
    "```"
   ]
  },
  {
   "cell_type": "code",
   "execution_count": null,
   "id": "736d0095",
   "metadata": {},
   "outputs": [],
   "source": [
    "%%bash\n",
    "pip install torchshow"
   ]
  },
  {
   "cell_type": "markdown",
   "id": "a40c2691",
   "metadata": {},
   "source": [
    "## 3.PILToTensor and torchshow"
   ]
  },
  {
   "cell_type": "code",
   "execution_count": null,
   "id": "dd6785e6",
   "metadata": {},
   "outputs": [],
   "source": [
    "import torch"
   ]
  },
  {
   "cell_type": "code",
   "execution_count": null,
   "id": "221018d6",
   "metadata": {},
   "outputs": [],
   "source": [
    "import torchshow as ts"
   ]
  },
  {
   "cell_type": "code",
   "execution_count": null,
   "id": "7877bc5f",
   "metadata": {},
   "outputs": [],
   "source": [
    "import torch\n",
    "\n",
    "from torchvision import transforms\n",
    "\n",
    "from PIL import Image"
   ]
  },
  {
   "cell_type": "code",
   "execution_count": null,
   "id": "233a2e9d",
   "metadata": {},
   "outputs": [],
   "source": [
    "img = Image.open(\"../dog.jpeg\")\n",
    "\n",
    "img"
   ]
  },
  {
   "cell_type": "code",
   "execution_count": null,
   "id": "4b05dc34",
   "metadata": {},
   "outputs": [],
   "source": [
    "convert_tensor = transforms.PILToTensor() #or transforms.ToTensor()\n",
    "\n",
    "tensor = convert_tensor(img)"
   ]
  },
  {
   "cell_type": "markdown",
   "id": "48981e57",
   "metadata": {},
   "source": [
    "As the ToTensor function will convert images with value between [0, 255] and of some specific format to a tensor with values between [0,1] (thus a float tensor).\n",
    "But for other images it will keep the same datatype and just convert the values.\n",
    "\n",
    "So for this case it will take the data type closes to a unsigned int16 which is a signed int16…\n",
    "This will result in overflows and non correct data.\n",
    "\n",
    "So the question is how to do it an easy (using torch) and fast way?\n",
    "\n",
    "They way i do it is to first convert to a numpy array; then convert to a signed float 32 then to a float tensor, that can be used as normal."
   ]
  },
  {
   "cell_type": "code",
   "execution_count": null,
   "id": "a6f43d64",
   "metadata": {},
   "outputs": [],
   "source": [
    "# Another way to convert an image to tensor, \n",
    "# from https://discuss.pytorch.org/t/pil-image-to-floattensor-uint16-to-float32/54577/3\n",
    "import numpy as np\n",
    "im_arr = np.array(img)\n",
    "im_arr32 = im_arr.astype(np.float32)\n",
    "im_tensor = torch.tensor(im_arr32)\n",
    "print(im_tensor.shape)\n",
    "im_tensor = im_tensor.unsqueeze(0)"
   ]
  },
  {
   "cell_type": "markdown",
   "id": "fcc074b3",
   "metadata": {},
   "source": [
    "After unsqueeze, the tensor has been added a new dim"
   ]
  },
  {
   "cell_type": "code",
   "execution_count": null,
   "id": "df936439",
   "metadata": {},
   "outputs": [],
   "source": [
    "im_tensor.shape"
   ]
  },
  {
   "cell_type": "code",
   "execution_count": null,
   "id": "0cebeab8",
   "metadata": {},
   "outputs": [],
   "source": [
    "tensor.shape"
   ]
  },
  {
   "cell_type": "code",
   "execution_count": null,
   "id": "46029e14",
   "metadata": {},
   "outputs": [],
   "source": [
    "tensor.dtype"
   ]
  },
  {
   "cell_type": "code",
   "execution_count": null,
   "id": "5cfe5a2b",
   "metadata": {},
   "outputs": [],
   "source": [
    "# now we can use tensorshow to visualize the tensor\n",
    "ts.show(tensor)\n"
   ]
  }
 ],
 "metadata": {
  "kernelspec": {
   "display_name": "Python 3 (ipykernel)",
   "language": "python",
   "name": "python3"
  },
  "language_info": {
   "codemirror_mode": {
    "name": "ipython",
    "version": 3
   },
   "file_extension": ".py",
   "mimetype": "text/x-python",
   "name": "python",
   "nbconvert_exporter": "python",
   "pygments_lexer": "ipython3",
   "version": "3.9.12"
  },
  "vscode": {
   "interpreter": {
    "hash": "a665b5d41d17b532ea9890333293a1b812fa0b73c9c25c950b3cedf1bebd0438"
   }
  }
 },
 "nbformat": 4,
 "nbformat_minor": 5
}
