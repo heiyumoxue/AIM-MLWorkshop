{
 "cells": [
  {
   "cell_type": "code",
   "execution_count": 3,
   "id": "813c27f9",
   "metadata": {},
   "outputs": [],
   "source": [
    "import numpy as np"
   ]
  },
  {
   "cell_type": "code",
   "execution_count": 5,
   "id": "ddf870dc",
   "metadata": {},
   "outputs": [
    {
     "name": "stdout",
     "output_type": "stream",
     "text": [
      "[7 8 9]\n"
     ]
    }
   ],
   "source": [
    "arr = np.array([[1, 2, 3, 4, 5], [6, 7, 8, 9, 10]])\n",
    "print(arr[1, 1:4]) "
   ]
  },
  {
   "cell_type": "code",
   "execution_count": 7,
   "id": "a21b296e",
   "metadata": {},
   "outputs": [
    {
     "data": {
      "text/plain": [
       "array([[ 0,  1,  2,  3,  4],\n",
       "       [ 5,  6,  7,  8,  9],\n",
       "       [10, 11, 12, 13, 14]])"
      ]
     },
     "execution_count": 7,
     "metadata": {},
     "output_type": "execute_result"
    }
   ],
   "source": [
    "a = np.arange(15).reshape(3,5)\n",
    "a"
   ]
  },
  {
   "cell_type": "code",
   "execution_count": 8,
   "id": "3531b716",
   "metadata": {},
   "outputs": [
    {
     "data": {
      "text/plain": [
       "6"
      ]
     },
     "execution_count": 8,
     "metadata": {},
     "output_type": "execute_result"
    }
   ],
   "source": [
    "a[1,1]"
   ]
  },
  {
   "cell_type": "code",
   "execution_count": 9,
   "id": "f3a8b821",
   "metadata": {},
   "outputs": [
    {
     "data": {
      "text/plain": [
       "array([[7, 8],\n",
       "       [4, 5]])"
      ]
     },
     "execution_count": 9,
     "metadata": {},
     "output_type": "execute_result"
    }
   ],
   "source": [
    "matrix = np.array([[7,8],[4,5]])\n",
    "matrix"
   ]
  },
  {
   "cell_type": "code",
   "execution_count": 12,
   "id": "0e35b5b1",
   "metadata": {},
   "outputs": [
    {
     "data": {
      "text/plain": [
       "4"
      ]
     },
     "execution_count": 12,
     "metadata": {},
     "output_type": "execute_result"
    }
   ],
   "source": [
    "matrix.size"
   ]
  },
  {
   "cell_type": "code",
   "execution_count": 13,
   "id": "c629a7fc",
   "metadata": {},
   "outputs": [
    {
     "data": {
      "text/plain": [
       "(2, 2)"
      ]
     },
     "execution_count": 13,
     "metadata": {},
     "output_type": "execute_result"
    }
   ],
   "source": [
    "matrix.shape"
   ]
  },
  {
   "cell_type": "code",
   "execution_count": 17,
   "id": "4274405d",
   "metadata": {},
   "outputs": [
    {
     "data": {
      "text/plain": [
       "array([ 0,  1,  2,  3,  4,  5,  6,  7,  8,  9, 10, 11, 12, 13, 14, 15])"
      ]
     },
     "execution_count": 17,
     "metadata": {},
     "output_type": "execute_result"
    }
   ],
   "source": [
    "arr = np.arange(0,16)\n",
    "arr"
   ]
  },
  {
   "cell_type": "code",
   "execution_count": 27,
   "id": "33c9e176",
   "metadata": {},
   "outputs": [
    {
     "data": {
      "text/plain": [
       "array([[ 0,  1,  2,  3],\n",
       "       [ 4,  5,  6,  7],\n",
       "       [ 8,  9, 10, 11],\n",
       "       [12, 13, 14, 15]])"
      ]
     },
     "execution_count": 27,
     "metadata": {},
     "output_type": "execute_result"
    }
   ],
   "source": [
    "arr.reshape(4,4)"
   ]
  },
  {
   "cell_type": "code",
   "execution_count": 19,
   "id": "b210675a",
   "metadata": {},
   "outputs": [
    {
     "data": {
      "text/plain": [
       "array([[ 0,  1,  2,  3,  4,  5,  6,  7],\n",
       "       [ 8,  9, 10, 11, 12, 13, 14, 15]])"
      ]
     },
     "execution_count": 19,
     "metadata": {},
     "output_type": "execute_result"
    }
   ],
   "source": [
    "arr.reshape(2,8)"
   ]
  },
  {
   "cell_type": "code",
   "execution_count": 22,
   "id": "1ad28e70",
   "metadata": {},
   "outputs": [],
   "source": [
    "import torch"
   ]
  },
  {
   "cell_type": "code",
   "execution_count": null,
   "id": "564cdb83",
   "metadata": {},
   "outputs": [],
   "source": []
  },
  {
   "cell_type": "code",
   "execution_count": 26,
   "id": "da6abf05",
   "metadata": {},
   "outputs": [
    {
     "data": {
      "text/plain": [
       "tensor([[0.3509, 0.3242, 0.2006, 0.1567],\n",
       "        [0.9605, 0.8485, 0.9573, 0.2221],\n",
       "        [0.0766, 0.6933, 0.7809, 0.3957],\n",
       "        [0.6375, 0.5099, 0.0433, 0.2147]])"
      ]
     },
     "execution_count": 26,
     "metadata": {},
     "output_type": "execute_result"
    }
   ],
   "source": [
    "rand_t = torch.rand(4,4)\n",
    "rand_t"
   ]
  },
  {
   "cell_type": "code",
   "execution_count": 25,
   "id": "acdf6877",
   "metadata": {},
   "outputs": [
    {
     "data": {
      "text/plain": [
       "array([[0.9611747 , 0.1239633 , 0.30539984, 0.3141117 ],\n",
       "       [0.9130755 , 0.92625564, 0.2942884 , 0.23156309],\n",
       "       [0.8604968 , 0.84485775, 0.9687368 , 0.5005172 ],\n",
       "       [0.8517055 , 0.5756996 , 0.12685531, 0.32010734]], dtype=float32)"
      ]
     },
     "execution_count": 25,
     "metadata": {},
     "output_type": "execute_result"
    }
   ],
   "source": [
    "rand_arr = rand_t.numpy()\n",
    "rand_arr"
   ]
  },
  {
   "cell_type": "code",
   "execution_count": 30,
   "id": "1911d0bc",
   "metadata": {},
   "outputs": [
    {
     "data": {
      "text/plain": [
       "array([[ 0,  1,  2,  3],\n",
       "       [ 4,  5,  6,  7],\n",
       "       [ 8,  9, 10, 11],\n",
       "       [12, 13, 14, 15]])"
      ]
     },
     "execution_count": 30,
     "metadata": {},
     "output_type": "execute_result"
    }
   ],
   "source": [
    "arr2 = arr.reshape(4,4)\n",
    "arr2"
   ]
  },
  {
   "cell_type": "code",
   "execution_count": 31,
   "id": "ef622e44",
   "metadata": {},
   "outputs": [
    {
     "data": {
      "text/plain": [
       "array([[ 0.96117473,  1.1239633 ,  2.30539984,  3.31411171],\n",
       "       [ 4.91307551,  5.92625564,  6.2942884 ,  7.23156309],\n",
       "       [ 8.86049682,  9.84485775, 10.96873683, 11.50051719],\n",
       "       [12.85170549, 13.57569963, 14.12685531, 15.32010734]])"
      ]
     },
     "execution_count": 31,
     "metadata": {},
     "output_type": "execute_result"
    }
   ],
   "source": [
    "rand_arr + arr2"
   ]
  },
  {
   "cell_type": "code",
   "execution_count": 32,
   "id": "92224a3e",
   "metadata": {},
   "outputs": [
    {
     "data": {
      "text/plain": [
       "array([[-1.0388253, -1.8760366, -1.6946001, -1.6858883],\n",
       "       [-1.0869246, -1.0737443, -1.7057116, -1.7684369],\n",
       "       [-1.1395032, -1.1551423, -1.0312631, -1.4994829],\n",
       "       [-1.1482944, -1.4243004, -1.8731446, -1.6798927]], dtype=float32)"
      ]
     },
     "execution_count": 32,
     "metadata": {},
     "output_type": "execute_result"
    }
   ],
   "source": [
    "rand_arr - 2 "
   ]
  },
  {
   "cell_type": "code",
   "execution_count": 33,
   "id": "fb1c8a13",
   "metadata": {},
   "outputs": [
    {
     "data": {
      "text/plain": [
       "array([[0.48058736, 0.06198165, 0.15269992, 0.15705585],\n",
       "       [0.45653775, 0.46312782, 0.1471442 , 0.11578155],\n",
       "       [0.4302484 , 0.42242888, 0.4843684 , 0.2502586 ],\n",
       "       [0.42585275, 0.2878498 , 0.06342766, 0.16005367]], dtype=float32)"
      ]
     },
     "execution_count": 33,
     "metadata": {},
     "output_type": "execute_result"
    }
   ],
   "source": [
    "rand_arr / 2"
   ]
  },
  {
   "cell_type": "code",
   "execution_count": 39,
   "id": "f236322e",
   "metadata": {},
   "outputs": [
    {
     "data": {
      "text/plain": [
       "array([[0.37366412, 0.4182999 , 0.36142672, 0.06327799],\n",
       "       [0.00410725, 0.37404106, 0.50042644, 0.58695583],\n",
       "       [0.93590916, 0.16195835, 0.58230187, 0.48688264],\n",
       "       [0.56690478, 0.39708198, 0.22584051, 0.4819807 ]])"
      ]
     },
     "execution_count": 39,
     "metadata": {},
     "output_type": "execute_result"
    }
   ],
   "source": [
    "arr_rand = np.random.rand(4,4)\n",
    "arr_rand"
   ]
  },
  {
   "cell_type": "code",
   "execution_count": 37,
   "id": "566d8628",
   "metadata": {},
   "outputs": [
    {
     "data": {
      "text/plain": [
       "array([[ 0.79455695,  0.40332116,  5.76087729,  6.19255   ],\n",
       "       [ 0.98954195,  1.62450816,  1.56157735,  4.91531453],\n",
       "       [ 0.70943004,  2.88879714,  8.45933601, 15.49382567],\n",
       "       [ 0.49894036,  1.54387949,  5.56850852, 11.38220489]])"
      ]
     },
     "execution_count": 37,
     "metadata": {},
     "output_type": "execute_result"
    }
   ],
   "source": [
    "arr_rand = [1,2,3,4] * arr_rand\n",
    "arr_rand\n"
   ]
  },
  {
   "cell_type": "code",
   "execution_count": 38,
   "id": "22ec401c",
   "metadata": {},
   "outputs": [
    {
     "data": {
      "text/plain": [
       "array([[[ 0.79455695,  0.40332116,  5.76087729,  6.19255   ],\n",
       "        [ 0.98954195,  1.62450816,  1.56157735,  4.91531453],\n",
       "        [ 0.70943004,  2.88879714,  8.45933601, 15.49382567],\n",
       "        [ 0.49894036,  1.54387949,  5.56850852, 11.38220489]],\n",
       "\n",
       "       [[ 0.        ,  1.        ,  2.        ,  3.        ],\n",
       "        [ 4.        ,  5.        ,  6.        ,  7.        ],\n",
       "        [ 8.        ,  9.        , 10.        , 11.        ],\n",
       "        [12.        , 13.        , 14.        , 15.        ]]])"
      ]
     },
     "execution_count": 38,
     "metadata": {},
     "output_type": "execute_result"
    }
   ],
   "source": [
    "np.stack((arr_rand,arr2),axis=0)"
   ]
  },
  {
   "cell_type": "code",
   "execution_count": 45,
   "id": "17c3936e",
   "metadata": {},
   "outputs": [
    {
     "name": "stdout",
     "output_type": "stream",
     "text": [
      "[[0.37366412 0.4182999  0.36142672 0.06327799]\n",
      " [0.00410725 0.37404106 0.50042644 0.58695583]\n",
      " [0.93590916 0.16195835 0.58230187 0.48688264]\n",
      " [0.56690478 0.39708198 0.22584051 0.4819807 ]]\n"
     ]
    },
    {
     "data": {
      "text/plain": [
       "6.5210593027177906"
      ]
     },
     "execution_count": 45,
     "metadata": {},
     "output_type": "execute_result"
    }
   ],
   "source": [
    "print(arr_rand)\n",
    "np.sum(arr_rand)"
   ]
  },
  {
   "cell_type": "code",
   "execution_count": 46,
   "id": "22063c5d",
   "metadata": {},
   "outputs": [
    {
     "data": {
      "text/plain": [
       "0.004107247241580403"
      ]
     },
     "execution_count": 46,
     "metadata": {},
     "output_type": "execute_result"
    }
   ],
   "source": [
    "np.min(arr_rand)"
   ]
  },
  {
   "cell_type": "code",
   "execution_count": 47,
   "id": "0040cadb",
   "metadata": {},
   "outputs": [
    {
     "data": {
      "text/plain": [
       "0.9359091595438772"
      ]
     },
     "execution_count": 47,
     "metadata": {},
     "output_type": "execute_result"
    }
   ],
   "source": [
    "np.max(arr_rand)"
   ]
  },
  {
   "cell_type": "code",
   "execution_count": 48,
   "id": "e9a722ab",
   "metadata": {},
   "outputs": [
    {
     "data": {
      "text/plain": [
       "0.4075662064198619"
      ]
     },
     "execution_count": 48,
     "metadata": {},
     "output_type": "execute_result"
    }
   ],
   "source": [
    "np.mean(arr_rand)"
   ]
  }
 ],
 "metadata": {
  "kernelspec": {
   "display_name": "Python 3 (ipykernel)",
   "language": "python",
   "name": "python3"
  },
  "language_info": {
   "codemirror_mode": {
    "name": "ipython",
    "version": 3
   },
   "file_extension": ".py",
   "mimetype": "text/x-python",
   "name": "python",
   "nbconvert_exporter": "python",
   "pygments_lexer": "ipython3",
   "version": "3.9.12"
  }
 },
 "nbformat": 4,
 "nbformat_minor": 5
}
