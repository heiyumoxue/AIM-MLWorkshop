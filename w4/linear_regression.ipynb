{
 "cells": [
  {
   "cell_type": "markdown",
   "metadata": {},
   "source": [
    "## Build basic linear regression model via python\n"
   ]
  },
  {
   "cell_type": "code",
   "execution_count": 1,
   "metadata": {},
   "outputs": [],
   "source": [
    "import pandas as pd\n",
    "import matplotlib.pyplot as plt\n",
    "from sklearn import linear_model"
   ]
  },
  {
   "cell_type": "code",
   "execution_count": 2,
   "metadata": {},
   "outputs": [],
   "source": [
    "# load dataset\n",
    "data = pd.read_csv('/Users/zhiqi22/study/data.csv')"
   ]
  },
  {
   "cell_type": "code",
   "execution_count": 4,
   "metadata": {},
   "outputs": [
    {
     "data": {
      "text/plain": [
       "(11, 2)"
      ]
     },
     "execution_count": 4,
     "metadata": {},
     "output_type": "execute_result"
    }
   ],
   "source": [
    "# review the data\n",
    "data # or data.shape"
   ]
  },
  {
   "cell_type": "code",
   "execution_count": 5,
   "metadata": {},
   "outputs": [
    {
     "data": {
      "image/png": "[encoded data removed]",
      "text/plain": [
       "<Figure size 640x480 with 1 Axes>"
      ]
     },
     "metadata": {},
     "output_type": "display_data"
    }
   ],
   "source": [
    "data.plot(kind='scatter', x='Waist_cm', y= 'Weight_kg')\n",
    "plt.show()"
   ]
  },
  {
   "cell_type": "code",
   "execution_count": 7,
   "metadata": {},
   "outputs": [
    {
     "data": {
      "text/html": [
       "<div>\n",
       "<style scoped>\n",
       "    .dataframe tbody tr th:only-of-type {\n",
       "        vertical-align: middle;\n",
       "    }\n",
       "\n",
       "    .dataframe tbody tr th {\n",
       "        vertical-align: top;\n",
       "    }\n",
       "\n",
       "    .dataframe thead th {\n",
       "        text-align: right;\n",
       "    }\n",
       "</style>\n",
       "<table border=\"1\" class=\"dataframe\">\n",
       "  <thead>\n",
       "    <tr style=\"text-align: right;\">\n",
       "      <th></th>\n",
       "      <th>Waist_cm</th>\n",
       "      <th>Weight_kg</th>\n",
       "    </tr>\n",
       "  </thead>\n",
       "  <tbody>\n",
       "    <tr>\n",
       "      <th>Waist_cm</th>\n",
       "      <td>1.000000</td>\n",
       "      <td>0.918059</td>\n",
       "    </tr>\n",
       "    <tr>\n",
       "      <th>Weight_kg</th>\n",
       "      <td>0.918059</td>\n",
       "      <td>1.000000</td>\n",
       "    </tr>\n",
       "  </tbody>\n",
       "</table>\n",
       "</div>"
      ],
      "text/plain": [
       "           Waist_cm  Weight_kg\n",
       "Waist_cm   1.000000   0.918059\n",
       "Weight_kg  0.918059   1.000000"
      ]
     },
     "execution_count": 7,
     "metadata": {},
     "output_type": "execute_result"
    }
   ],
   "source": [
    "data.plot(kind='box')\n",
    "plt.show()\n",
    "data.corr() # correlation coefficients"
   ]
  },
  {
   "cell_type": "code",
   "execution_count": 8,
   "metadata": {},
   "outputs": [],
   "source": [
    "# change to dataframe variables\n",
    "Waist=pd.DataFrame(data['Waist_cm'])\n",
    "Weight=pd.DataFrame(data['Weight_kg'])"
   ]
  },
  {
   "cell_type": "code",
   "execution_count": 10,
   "metadata": {},
   "outputs": [],
   "source": [
    "#Build linear regression model\n",
    "lm = linear_model.LinearRegression()\n",
    "model = lm.fit(Waist, Weight)"
   ]
  },
  {
   "cell_type": "code",
   "execution_count": 11,
   "metadata": {},
   "outputs": [
    {
     "data": {
      "text/plain": [
       "array([[1.03558679]])"
      ]
     },
     "execution_count": 11,
     "metadata": {},
     "output_type": "execute_result"
    }
   ],
   "source": [
    "model.coef_"
   ]
  },
  {
   "cell_type": "code",
   "execution_count": 12,
   "metadata": {},
   "outputs": [
    {
     "data": {
      "text/plain": [
       "array([44.39892905])"
      ]
     },
     "execution_count": 12,
     "metadata": {},
     "output_type": "execute_result"
    }
   ],
   "source": [
    "model.intercept_"
   ]
  },
  {
   "cell_type": "code",
   "execution_count": 13,
   "metadata": {},
   "outputs": [
    {
     "data": {
      "text/plain": [
       "0.8428329113206972"
      ]
     },
     "execution_count": 13,
     "metadata": {},
     "output_type": "execute_result"
    }
   ],
   "source": [
    "model.score(Waist, Weight)\n",
    "# evaluate the model"
   ]
  },
  {
   "cell_type": "code",
   "execution_count": 19,
   "metadata": {},
   "outputs": [
    {
     "name": "stdout",
     "output_type": "stream",
     "text": [
      "[[79]]\n"
     ]
    },
    {
     "name": "stderr",
     "output_type": "stream",
     "text": [
      "/opt/homebrew/lib/python3.10/site-packages/sklearn/base.py:450: UserWarning: X does not have valid feature names, but LinearRegression was fitted with feature names\n",
      "  warnings.warn(\n"
     ]
    },
    {
     "data": {
      "text/plain": [
       "array([[126.21028559]])"
      ]
     },
     "execution_count": 19,
     "metadata": {},
     "output_type": "execute_result"
    }
   ],
   "source": [
    "#Predict new value of weight\n",
    "import numpy as np\n",
    "Waist_new=np.array(79)\n",
    "Waist_new = Waist_new.reshape(-1,1)\n",
    "print(Waist_new)\n",
    "Weight_predict=model.predict(Waist_new)\n",
    "Weight_predict\n"
   ]
  },
  {
   "cell_type": "code",
   "execution_count": 20,
   "metadata": {},
   "outputs": [
    {
     "name": "stderr",
     "output_type": "stream",
     "text": [
      "/opt/homebrew/lib/python3.10/site-packages/sklearn/base.py:450: UserWarning: X does not have valid feature names, but LinearRegression was fitted with feature names\n",
      "  warnings.warn(\n"
     ]
    },
    {
     "data": {
      "text/html": [
       "<div>\n",
       "<style scoped>\n",
       "    .dataframe tbody tr th:only-of-type {\n",
       "        vertical-align: middle;\n",
       "    }\n",
       "\n",
       "    .dataframe tbody tr th {\n",
       "        vertical-align: top;\n",
       "    }\n",
       "\n",
       "    .dataframe thead tr th {\n",
       "        text-align: left;\n",
       "    }\n",
       "</style>\n",
       "<table border=\"1\" class=\"dataframe\">\n",
       "  <thead>\n",
       "    <tr>\n",
       "      <th></th>\n",
       "      <th>Waist_new_cm</th>\n",
       "      <th>Weight_newPredict_kg</th>\n",
       "    </tr>\n",
       "    <tr>\n",
       "      <th></th>\n",
       "      <th>0</th>\n",
       "      <th>0</th>\n",
       "    </tr>\n",
       "  </thead>\n",
       "  <tbody>\n",
       "    <tr>\n",
       "      <th>0</th>\n",
       "      <td>67</td>\n",
       "      <td>113.783244</td>\n",
       "    </tr>\n",
       "    <tr>\n",
       "      <th>1</th>\n",
       "      <td>68</td>\n",
       "      <td>114.818831</td>\n",
       "    </tr>\n",
       "    <tr>\n",
       "      <th>2</th>\n",
       "      <td>100</td>\n",
       "      <td>147.957608</td>\n",
       "    </tr>\n",
       "  </tbody>\n",
       "</table>\n",
       "</div>"
      ],
      "text/plain": [
       "  Waist_new_cm Weight_newPredict_kg\n",
       "             0                    0\n",
       "0           67           113.783244\n",
       "1           68           114.818831\n",
       "2          100           147.957608"
      ]
     },
     "execution_count": 20,
     "metadata": {},
     "output_type": "execute_result"
    }
   ],
   "source": [
    "#predict more values\n",
    "X = ([67,68,100])\n",
    "x=pd.DataFrame(X)\n",
    "Y=model.predict(x)\n",
    "Y=pd.DataFrame(Y)\n",
    "df=pd.concat([x,Y],axis=1,keys=['Waist_new_cm','Weight_newPredict_kg'])\n",
    "df"
   ]
  },
  {
   "cell_type": "code",
   "execution_count": 23,
   "metadata": {},
   "outputs": [
    {
     "data": {
      "image/png": "[encoded data removed]",
      "text/plain": [
       "<Figure size 640x480 with 1 Axes>"
      ]
     },
     "metadata": {},
     "output_type": "display_data"
    }
   ],
   "source": [
    "#Visualize the result\n",
    "data.plot(kind='scatter',x='Waist_cm',y='Weight_kg')\n",
    "plt.plot(Waist,model.predict(Waist),color='blue',linewidth=2)\n",
    "plt.scatter(Waist_new,Weight_predict,color='red')\n",
    "plt.show()"
   ]
  },
  {
   "cell_type": "markdown",
   "metadata": {},
   "source": [
    "## Build linear regression model from scratch"
   ]
  },
  {
   "cell_type": "code",
   "execution_count": 28,
   "metadata": {},
   "outputs": [
    {
     "data": {
      "text/plain": [
       "torch.Size([50, 1])"
      ]
     },
     "execution_count": 28,
     "metadata": {},
     "output_type": "execute_result"
    }
   ],
   "source": [
    "#create known parameters\n",
    "import torch\n",
    "\n",
    "weight = 0.7\n",
    "bias = 0.3\n",
    "# create\n",
    "start = 0\n",
    "end = 1\n",
    "step = 0.02\n",
    "\n",
    "X = torch.arange(start,end, step).unsqueeze(dim=1)\n",
    "Y = weight * X + bias\n",
    "X[:10], Y[:10]\n",
    "#X.shape"
   ]
  },
  {
   "cell_type": "code",
   "execution_count": 49,
   "metadata": {},
   "outputs": [
    {
     "data": {
      "text/plain": [
       "(50, 50)"
      ]
     },
     "execution_count": 49,
     "metadata": {},
     "output_type": "execute_result"
    }
   ],
   "source": [
    "len(X), len(Y)\n"
   ]
  },
  {
   "cell_type": "code",
   "execution_count": 47,
   "metadata": {},
   "outputs": [],
   "source": [
    "## Spliting data into training and testing sets\n",
    "train_split = int(0.8*len(X))\n",
    "X_train, Y_train = X[:train_split], Y[:train_split] # we are using indexing here\n",
    "X_test, Y_test = X[train_split:], Y[train_split:]"
   ]
  },
  {
   "cell_type": "code",
   "execution_count": 48,
   "metadata": {},
   "outputs": [
    {
     "data": {
      "text/plain": [
       "(40, 10)"
      ]
     },
     "execution_count": 48,
     "metadata": {},
     "output_type": "execute_result"
    }
   ],
   "source": [
    "len(X_train),len(X_test)#training data, testing data\n",
    "len(Y_train),len(Y_test)#training label, testing labels"
   ]
  },
  {
   "cell_type": "markdown",
   "metadata": {},
   "source": [
    "## Visualize data"
   ]
  },
  {
   "cell_type": "code",
   "execution_count": 53,
   "metadata": {},
   "outputs": [],
   "source": [
    "import matplotlib.pyplot as plt\n",
    "def plot_pred(train_data = X_train,\n",
    "            train_label = Y_train,\n",
    "            test_data=X_test,\n",
    "            test_label= Y_test,\n",
    "            pred=None):\n",
    "    plt.figure(figsize=(5,5))\n",
    "\n",
    "    plt.scatter(train_data, train_label, c='b',s=4,label='Training data')\n",
    "    plt.scatter(test_data,test_label,c='r',s=4, label='Testing data')\n",
    "\n",
    "    if pred is not None:\n",
    "        plt.scatter(test_data,pred)\n",
    "        plt.scatter(test_data,pred,c='r',s=4, label='predictions')\n",
    "#plt.legend(prop={\"size\":14})\n"
   ]
  },
  {
   "cell_type": "code",
   "execution_count": 54,
   "metadata": {},
   "outputs": [
    {
     "data": {
      "image/png": "[encoded data removed]",
      "text/plain": [
       "<Figure size 500x500 with 1 Axes>"
      ]
     },
     "metadata": {},
     "output_type": "display_data"
    }
   ],
   "source": [
    "plot_pred()"
   ]
  },
  {
   "cell_type": "markdown",
   "metadata": {},
   "source": [
    "This is the ideal output, we know the relationship between x and y, because we create the linear regression model with pre_set parameters."
   ]
  },
  {
   "cell_type": "markdown",
   "metadata": {},
   "source": [
    "## Building our first pytorch model!\n",
    "What our model does, start with random values (weight & bias)\n",
    "Look at training data and adjust the random values to better represent (or get closer to) the ideal values (the weight & bias values we used to create the data) \n",
    "We can do this through:\n",
    "\n",
    "* Gradient descent\n",
    "* Back propogation"
   ]
  },
  {
   "cell_type": "code",
   "execution_count": 55,
   "metadata": {},
   "outputs": [],
   "source": [
    "# Revisit the linear regression model again\n",
    "# 1: create a linear regression model class\n",
    "# This class inherits from nn.module (built-in)\n",
    "import torch.nn as nn\n",
    "class LinearRegressionModel(nn.Module):\n",
    "    def __init__(self) -> None:\n",
    "        super().__init__()\n",
    "        #initialize model parameters\n",
    "        self.weights = nn.Parameter(torch.randn(1,requires_grad=True,dtype=torch.float))\n",
    "        self.bias = nn.Parameter(torch.randn(1,requires_grad=True,dtype=torch.float))\n",
    "\n",
    "        # forward defines the computation in the model\n",
    "        def forward(self, x:torch.Tensor)->torch.Tensor:\n",
    "            return self.weight * x + self.bias \n"
   ]
  },
  {
   "cell_type": "markdown",
   "metadata": {},
   "source": [
    "## Linear regression with gradient descent"
   ]
  },
  {
   "cell_type": "code",
   "execution_count": 1,
   "metadata": {},
   "outputs": [
    {
     "name": "stdout",
     "output_type": "stream",
     "text": [
      "Collecting plotly==5.10.0\n",
      "  Downloading plotly-5.10.0-py2.py3-none-any.whl (15.2 MB)\n",
      "     ━━━━━━━━━━━━━━━━━━━━━━━━━━━━━━━━━━━━━━━━ 15.2/15.2 MB 42.3 MB/s eta 0:00:00\n",
      "Collecting tenacity>=6.2.0\n",
      "  Downloading tenacity-8.1.0-py3-none-any.whl (23 kB)\n",
      "Installing collected packages: tenacity, plotly\n",
      "Successfully installed plotly-5.10.0 tenacity-8.1.0\n"
     ]
    },
    {
     "name": "stderr",
     "output_type": "stream",
     "text": [
      "WARNING: You are using pip version 22.0.4; however, version 22.3 is available.\n",
      "You should consider upgrading via the '/home/zli3/PyTorch/bin/python -m pip install --upgrade pip' command.\n"
     ]
    }
   ],
   "source": [
    "%%bash\n",
    "pip install plotly==5.10.0"
   ]
  },
  {
   "cell_type": "code",
   "execution_count": 6,
   "metadata": {},
   "outputs": [],
   "source": [
    "import plotly.express as px\n",
    "import pandas as pd\n",
    "import numpy as np\n",
    "import matplotlib.pyplot as plt\n",
    "import os\n",
    "from mpl_toolkits import mplot3d\n",
    "\n",
    "from plotly.offline import download_plotlyjs, init_notebook_mode\n",
    "from plotly.offline import plot, iplot"
   ]
  },
  {
   "cell_type": "code",
   "execution_count": 15,
   "metadata": {},
   "outputs": [
    {
     "name": "stdout",
     "output_type": "stream",
     "text": [
      "/home/zli3/Documents/AIM-MLWorkshop/w4/data.txt\n"
     ]
    },
    {
     "data": {
      "text/plain": [
       "X    float64\n",
       "y    float64\n",
       "dtype: object"
      ]
     },
     "execution_count": 15,
     "metadata": {},
     "output_type": "execute_result"
    }
   ],
   "source": [
    "# Data first!\n",
    "path = os.path.abspath('data.txt') # get the absolute complete path of the file\n",
    "print(path)\n",
    "data_df = pd.read_csv((path), header=None, names=['X','y'])\n",
    "data_df.head() # fetch the head of the dataframe\n",
    "data_df.dtypes"
   ]
  },
  {
   "cell_type": "code",
   "execution_count": 21,
   "metadata": {},
   "outputs": [
    {
     "name": "stdout",
     "output_type": "stream",
     "text": [
      "The datatype of X is : float64\n",
      "X.shape: (23, 1)\n"
     ]
    },
    {
     "data": {
      "text/plain": [
       "(23, 2)"
      ]
     },
     "execution_count": 21,
     "metadata": {},
     "output_type": "execute_result"
    }
   ],
   "source": [
    "# Let's find more about the data\n",
    "n_rows = data_df.shape[0]\n",
    "# How about print the datatype of 'X'?\n",
    "print('The datatype of X is :', data_df['X'].dtype)\n",
    "# Change the X of the original data into a (n_rows, 1) array\n",
    "X = data_df['X'].to_numpy().reshape(n_rows,1)\n",
    "# After converting, check the shape of X again\n",
    "print('X.shape:', X.shape)\n",
    "# Generate a all one vector with shape of (n_rows, 1)\n",
    "ones = np.ones((n_rows,1))\n",
    "# Represent X with an additional dim for vector computation\n",
    "X = np.concatenate((ones, X), axis=1)\n",
    "X.shape"
   ]
  },
  {
   "cell_type": "code",
   "execution_count": null,
   "metadata": {},
   "outputs": [],
   "source": [
    "# y variable\n",
    "y = data_df['y'].to_numpy().reshape(n_rows, 1)"
   ]
  },
  {
   "cell_type": "code",
   "execution_count": null,
   "metadata": {},
   "outputs": [],
   "source": [
    "#now let's visualize the data\n",
    "plt.scatter()\n",
    "plt.xlabel()\n",
    "plt.ylabel()\n",
    "plt.title() # this is optional"
   ]
  },
  {
   "cell_type": "markdown",
   "metadata": {},
   "source": [
    "The loss function is also called the cost function, which is a function used to measure the difference between the value h(θ) predicted by the model and the real value y. If there are multiple samples, the values of all cost functions can be calculated. Find the mean, and denote it as J(θ). \n",
    "\n",
    "For a linear model with only one variable/feature (e.g., x=size of the room, y=house price prediction)\n",
    " Cost function (**mean square error**) is given by\n",
    "$$\n",
    "J\\left(\\theta_0, \\theta_1\\right)=\\frac{1}{2 m} \\sum_{i=1}^m\\left(h_\\theta\\left(x_i\\right)-y_i\\right)^2\n",
    "$$\n",
    "Where $h_\\theta(x_i) = \\theta^T x$\n",
    "* m: the number of training samples in the dataset\n",
    "* $h_{\\theta}(x)$ is the estimation, it can be formulated as: $h_{\\theta}(x) = \\theta_0 + \\theta_1 x_1^{(i)} $\n",
    "* y is the real value of the original training set"
   ]
  },
  {
   "cell_type": "markdown",
   "metadata": {},
   "source": [
    "### All we need to do is find the value of θ that minimizes J(θ)\n"
   ]
  },
  {
   "cell_type": "markdown",
   "metadata": {},
   "source": [
    "#### 1. Calculate the gradient of this cost function\n",
    "$$\n",
    "\\begin{gathered}\n",
    "\\nabla J(\\Theta)=\\left\\langle\\frac{\\partial J}{\\partial \\Theta_0}, \\frac{\\partial J}{\\partial \\Theta_1}\\right\\rangle \\\\\n",
    "\\frac{\\partial J}{\\partial \\Theta_0}=\\frac{1}{m} \\sum_{i=1}^m\\left(h_{\\Theta}\\left(x^{(i)}\\right)-y^{(i)}\\right) \\\\\n",
    "\\frac{\\partial J}{\\partial \\Theta_1}=\\frac{1}{m} \\sum_{i=1}^m\\left(h_{\\Theta}\\left(x^{(i)}\\right)-y^{(i)}\\right) x_1^{(i)}\n",
    "\\end{gathered}\n",
    "$$\n",
    "#### 2. Adjust the shape of the variable x\n",
    "> Since we have two theta variable here, we need to add an addtional dimension to x\n",
    "Which means shape of x will change from [1,m] to [2,m]"
   ]
  },
  {
   "cell_type": "code",
   "execution_count": null,
   "metadata": {},
   "outputs": [],
   "source": [
    "def compute_cost(data, data, theta = np.array([[],[]])):\n",
    "    '''\n",
    "        Given covariate matrix X, \n",
    "        the prediction results y,\n",
    "        and coefficients theta \n",
    "        compute the loss\n",
    "    '''"
   ]
  },
  {
   "cell_type": "markdown",
   "metadata": {},
   "source": [
    "## TODO \n",
    "`def gradient_descent_algorithm():`"
   ]
  },
  {
   "cell_type": "code",
   "execution_count": null,
   "metadata": {},
   "outputs": [],
   "source": [
    "num_iterations=1500\n",
    "theta_init=np.array([[1],[1]])\n",
    "print('theta_init shape:', theta_init.shape) \n",
    "alpha=0.01\n",
    "theta, J_history, theta0_history, theta1_history = gradient_descent(X,y, theta_init,\n",
    "                                                                   alpha, num_iterations)"
   ]
  },
  {
   "cell_type": "code",
   "execution_count": null,
   "metadata": {},
   "outputs": [],
   "source": [
    "# using computed theta to plot the fitting graph\n",
    "plt.figure()\n",
    "plt.scatter(X,y)\n",
    "plt.plot(X, theta[0] + theta[1]*X, color='r')\n",
    "plt.title('Linear Regression Fitting Based on Gradient Descent Algorithm')\n",
    "plt.grid(True)\n",
    "plt.show()"
   ]
  },
  {
   "cell_type": "code",
   "execution_count": null,
   "metadata": {},
   "outputs": [],
   "source": []
  },
  {
   "cell_type": "markdown",
   "metadata": {},
   "source": [
    "## Useful resources\n",
    "* Linear regression \n",
    "\n",
    "    - [1](https://jakevdp.github.io/PythonDataScienceHandbook/05.06-linear-regression.html)\n",
    "    - [2](https://scikit-learn.org/stable/modules/generated/sklearn.linear_model.LinearRegression.html#examples-using-sklearn-linear-model-linearregression)\n",
    "\n",
    "* Logistic regression\n",
    "    - [1](https://www.analyticsvidhya.com/blog/2021/07/perform-logistic-regression-with-pytorch-seamlessly/)\n",
    "* Pandas\n",
    "    - [Pandas at Kaggle](https://www.kaggle.com/learn/pandas)\n",
    "    - [10 tricks](https://medium.com/towards-data-science/10-python-pandas-tricks-that-make-your-work-more-efficient-2e8e483808ba)"
   ]
  },
  {
   "cell_type": "markdown",
   "metadata": {},
   "source": []
  },
  {
   "cell_type": "code",
   "execution_count": null,
   "metadata": {},
   "outputs": [],
   "source": []
  }
 ],
 "metadata": {
  "kernelspec": {
   "display_name": "Python 3.9.12 ('base')",
   "language": "python",
   "name": "python3"
  },
  "language_info": {
   "codemirror_mode": {
    "name": "ipython",
    "version": 3
   },
   "file_extension": ".py",
   "mimetype": "text/x-python",
   "name": "python",
   "nbconvert_exporter": "python",
   "pygments_lexer": "ipython3",
   "version": "3.9.12"
  },
  "vscode": {
   "interpreter": {
    "hash": "cfede78eeced9d2bc40d3140c2d575ad5dd808a4cb3263f8237a856546638041"
   }
  }
 },
 "nbformat": 4,
 "nbformat_minor": 2
}
