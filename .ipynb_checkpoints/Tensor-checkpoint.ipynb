{
 "cells": [
  {
   "cell_type": "code",
   "execution_count": 9,
   "id": "5d93ff68-d8b7-4e43-b3d1-6b8254b8fcf4",
   "metadata": {},
   "outputs": [],
   "source": [
    "import torch"
   ]
  },
  {
   "cell_type": "code",
   "execution_count": 10,
   "id": "33065b7d-b18e-4eda-a730-88d63ca7a28c",
   "metadata": {},
   "outputs": [],
   "source": [
    "scaler = torch.tensor(8)"
   ]
  },
  {
   "cell_type": "code",
   "execution_count": 11,
   "id": "8a5e0997-d6f2-4ceb-9831-ccf4a10740c3",
   "metadata": {},
   "outputs": [
    {
     "data": {
      "text/plain": [
       "0"
      ]
     },
     "execution_count": 11,
     "metadata": {},
     "output_type": "execute_result"
    }
   ],
   "source": [
    "scaler\n",
    "scaler.ndim"
   ]
  },
  {
   "cell_type": "code",
   "execution_count": 12,
   "id": "af743982-3252-45e1-afde-0ae4b2962140",
   "metadata": {},
   "outputs": [],
   "source": [
    "verctor = torch.tensor([7,7])"
   ]
  },
  {
   "cell_type": "code",
   "execution_count": 13,
   "id": "db3bf731-1ea5-4f0d-98bd-8b632450647f",
   "metadata": {},
   "outputs": [
    {
     "data": {
      "text/plain": [
       "tensor([7, 7])"
      ]
     },
     "execution_count": 13,
     "metadata": {},
     "output_type": "execute_result"
    }
   ],
   "source": [
    "verctor"
   ]
  },
  {
   "cell_type": "code",
   "execution_count": 14,
   "id": "e7b88210-5ebf-49e4-920a-85230d49713d",
   "metadata": {},
   "outputs": [
    {
     "data": {
      "text/plain": [
       "1"
      ]
     },
     "execution_count": 14,
     "metadata": {},
     "output_type": "execute_result"
    }
   ],
   "source": [
    "verctor.ndim"
   ]
  },
  {
   "cell_type": "code",
   "execution_count": 15,
   "id": "2e9fc502-6e5e-4443-a187-4b2d42f6c1c5",
   "metadata": {},
   "outputs": [
    {
     "data": {
      "text/plain": [
       "torch.Size([2])"
      ]
     },
     "execution_count": 15,
     "metadata": {},
     "output_type": "execute_result"
    }
   ],
   "source": [
    "verctor.shape"
   ]
  },
  {
   "cell_type": "code",
   "execution_count": 48,
   "id": "f813aad3-9d99-4fb1-9df2-97e31c257b37",
   "metadata": {},
   "outputs": [],
   "source": [
    "verctor = torch.tensor([7,7,7])"
   ]
  },
  {
   "cell_type": "code",
   "execution_count": 49,
   "id": "ae455607-8b0f-431e-83df-39c738c0df01",
   "metadata": {},
   "outputs": [
    {
     "data": {
      "text/plain": [
       "1"
      ]
     },
     "execution_count": 49,
     "metadata": {},
     "output_type": "execute_result"
    }
   ],
   "source": [
    "verctor.ndim"
   ]
  },
  {
   "cell_type": "code",
   "execution_count": 51,
   "id": "1ceecb38-7ac8-4780-92f7-9f5ecaa6a434",
   "metadata": {},
   "outputs": [],
   "source": [
    "verctor = torch.tensor([[7,7],[7,7]])"
   ]
  },
  {
   "cell_type": "code",
   "execution_count": 52,
   "id": "af100b69-b282-4440-b67f-a0ea40d3315c",
   "metadata": {},
   "outputs": [
    {
     "data": {
      "text/plain": [
       "2"
      ]
     },
     "execution_count": 52,
     "metadata": {},
     "output_type": "execute_result"
    }
   ],
   "source": [
    "verctor.ndim"
   ]
  },
  {
   "cell_type": "code",
   "execution_count": 55,
   "id": "31dc5682-3d9f-4ea9-ab57-3533e4fcc584",
   "metadata": {},
   "outputs": [],
   "source": [
    "verctor = torch.tensor([[[7,7],[7,7],[7,7]]])"
   ]
  },
  {
   "cell_type": "code",
   "execution_count": 56,
   "id": "3207e05f-24bf-4664-be63-0c5300bd1dbc",
   "metadata": {},
   "outputs": [
    {
     "data": {
      "text/plain": [
       "3"
      ]
     },
     "execution_count": 56,
     "metadata": {},
     "output_type": "execute_result"
    }
   ],
   "source": [
    "verctor.ndim"
   ]
  },
  {
   "cell_type": "code",
   "execution_count": 16,
   "id": "e8739bf7-65be-457c-a2b9-b3d22c252c91",
   "metadata": {},
   "outputs": [],
   "source": [
    "one_to_ten = torch.arange(start=1,end=11,step=1)"
   ]
  },
  {
   "cell_type": "code",
   "execution_count": 17,
   "id": "7e7a6365-9c97-423c-ae2f-2bbe79b7d2a8",
   "metadata": {},
   "outputs": [
    {
     "data": {
      "text/plain": [
       "tensor([ 1,  2,  3,  4,  5,  6,  7,  8,  9, 10])"
      ]
     },
     "execution_count": 17,
     "metadata": {},
     "output_type": "execute_result"
    }
   ],
   "source": [
    "one_to_ten"
   ]
  },
  {
   "cell_type": "code",
   "execution_count": 18,
   "id": "c9e04fb7-7cf8-473f-8ccf-8d56e1e838fb",
   "metadata": {},
   "outputs": [],
   "source": [
    "float_32_tensor = torch.tensor([1.0,2.0,3.0])"
   ]
  },
  {
   "cell_type": "code",
   "execution_count": 19,
   "id": "c7c9cf19-dbbb-446f-a596-fe4e472254b9",
   "metadata": {},
   "outputs": [
    {
     "data": {
      "text/plain": [
       "torch.float32"
      ]
     },
     "execution_count": 19,
     "metadata": {},
     "output_type": "execute_result"
    }
   ],
   "source": [
    "float_32_tensor .dtype"
   ]
  },
  {
   "cell_type": "code",
   "execution_count": 35,
   "id": "1d8c423e-7c27-4082-ac56-8ef5b86698da",
   "metadata": {},
   "outputs": [
    {
     "data": {
      "text/plain": [
       "torch.float64"
      ]
     },
     "execution_count": 35,
     "metadata": {},
     "output_type": "execute_result"
    }
   ],
   "source": [
    "float_64_tensor = torch.tensor([1.0,2.0,3.0],dtype=torch.float64)\n",
    "float_64_tensor .dtype"
   ]
  },
  {
   "cell_type": "code",
   "execution_count": null,
   "id": "8f98b1f9-a857-412d-9231-812f2e45892f",
   "metadata": {},
   "outputs": [],
   "source": [
    "#check the device of the tensor vector"
   ]
  },
  {
   "cell_type": "code",
   "execution_count": 25,
   "id": "e08bbabd-c8df-4fc5-a4fa-0cfac3283565",
   "metadata": {},
   "outputs": [],
   "source": [
    "tensor1 = torch.tensor([1,2])"
   ]
  },
  {
   "cell_type": "code",
   "execution_count": 32,
   "id": "f2324130-5863-4736-b601-d4dc847b054e",
   "metadata": {},
   "outputs": [
    {
     "data": {
      "text/plain": [
       "device(type='cpu')"
      ]
     },
     "execution_count": 32,
     "metadata": {},
     "output_type": "execute_result"
    }
   ],
   "source": [
    "tensor1.device"
   ]
  },
  {
   "cell_type": "code",
   "execution_count": 33,
   "id": "67cf0bf3-b664-4222-b30a-1e2e77a93f55",
   "metadata": {},
   "outputs": [],
   "source": [
    "tensor2 = torch.tensor([1,2,3],device=\"cuda:0\")"
   ]
  },
  {
   "cell_type": "code",
   "execution_count": 34,
   "id": "4ac7163c-f8a3-4003-870b-d3596e8503c7",
   "metadata": {},
   "outputs": [
    {
     "data": {
      "text/plain": [
       "device(type='cuda', index=0)"
      ]
     },
     "execution_count": 34,
     "metadata": {},
     "output_type": "execute_result"
    }
   ],
   "source": [
    "tensor2.device"
   ]
  },
  {
   "cell_type": "code",
   "execution_count": 36,
   "id": "ff85adb9-739d-4fd4-967d-310582f8a6e8",
   "metadata": {},
   "outputs": [],
   "source": [
    "#Exercise: torch tensor addition, substration, multiplication,division\n",
    "#3.Reshaping,viewing, and stacking"
   ]
  },
  {
   "cell_type": "code",
   "execution_count": 37,
   "id": "4f4dd166-c4b2-465d-b543-bd338732d774",
   "metadata": {},
   "outputs": [],
   "source": [
    "y = torch.arange(1., 10.)"
   ]
  },
  {
   "cell_type": "code",
   "execution_count": 44,
   "id": "85dc831f-6549-4d53-9a72-d47efd710562",
   "metadata": {},
   "outputs": [
    {
     "data": {
      "text/plain": [
       "tensor([151., 152., 153., 154., 155., 156., 157., 158., 159.])"
      ]
     },
     "execution_count": 44,
     "metadata": {},
     "output_type": "execute_result"
    }
   ],
   "source": [
    "y"
   ]
  },
  {
   "cell_type": "code",
   "execution_count": 45,
   "id": "b6caff58-25bf-437e-8ccc-93b3440edf2c",
   "metadata": {},
   "outputs": [
    {
     "data": {
      "text/plain": [
       "tensor([3020., 3040., 3060., 3080., 3100., 3120., 3140., 3160., 3180.])"
      ]
     },
     "execution_count": 45,
     "metadata": {},
     "output_type": "execute_result"
    }
   ],
   "source": [
    "y*20\n"
   ]
  },
  {
   "cell_type": "code",
   "execution_count": 46,
   "id": "38e99619-9672-460a-930c-a2a9de42dadf",
   "metadata": {},
   "outputs": [
    {
     "data": {
      "text/plain": [
       "tensor([7.5500, 7.6000, 7.6500, 7.7000, 7.7500, 7.8000, 7.8500, 7.9000, 7.9500])"
      ]
     },
     "execution_count": 46,
     "metadata": {},
     "output_type": "execute_result"
    }
   ],
   "source": [
    "y/20"
   ]
  },
  {
   "cell_type": "code",
   "execution_count": 47,
   "id": "9da1ce02-a94c-48a6-a22a-1f9eda669f49",
   "metadata": {},
   "outputs": [
    {
     "data": {
      "text/plain": [
       "tensor([201., 202., 203., 204., 205., 206., 207., 208., 209.])"
      ]
     },
     "execution_count": 47,
     "metadata": {},
     "output_type": "execute_result"
    }
   ],
   "source": [
    "y=torch.add(y,50)\n",
    "y"
   ]
  },
  {
   "cell_type": "code",
   "execution_count": 57,
   "id": "b54c0908-b7ad-4645-98d1-8b84f932277e",
   "metadata": {},
   "outputs": [
    {
     "data": {
      "text/plain": [
       "torch.Size([9])"
      ]
     },
     "execution_count": 57,
     "metadata": {},
     "output_type": "execute_result"
    }
   ],
   "source": [
    "y.shape"
   ]
  },
  {
   "cell_type": "code",
   "execution_count": 58,
   "id": "aef42ddb-a40e-47c7-9d51-674e77721d6b",
   "metadata": {},
   "outputs": [
    {
     "data": {
      "text/plain": [
       "tensor([[201., 202., 203., 204., 205., 206., 207., 208., 209.]])"
      ]
     },
     "execution_count": 58,
     "metadata": {},
     "output_type": "execute_result"
    }
   ],
   "source": [
    "y_reshaped = y.reshape(1,9)\n",
    "y_reshaped "
   ]
  },
  {
   "cell_type": "code",
   "execution_count": 59,
   "id": "d000aec4-53dc-4bad-9fb4-1436f8795dcd",
   "metadata": {},
   "outputs": [
    {
     "data": {
      "text/plain": [
       "torch.Size([1, 9])"
      ]
     },
     "execution_count": 59,
     "metadata": {},
     "output_type": "execute_result"
    }
   ],
   "source": [
    "y_reshaped.shape"
   ]
  },
  {
   "cell_type": "code",
   "execution_count": 61,
   "id": "ec7cc23c-97ec-4e68-8b06-828d1158861f",
   "metadata": {},
   "outputs": [
    {
     "data": {
      "text/plain": [
       "torch.float32"
      ]
     },
     "execution_count": 61,
     "metadata": {},
     "output_type": "execute_result"
    }
   ],
   "source": [
    "y_reshaped.dtype"
   ]
  },
  {
   "cell_type": "code",
   "execution_count": 64,
   "id": "90145901-4418-4c10-9f36-43e1e32aa03b",
   "metadata": {},
   "outputs": [
    {
     "data": {
      "text/plain": [
       "tensor([[201., 202., 203.],\n",
       "        [204., 205., 206.],\n",
       "        [207., 208., 209.]])"
      ]
     },
     "execution_count": 64,
     "metadata": {},
     "output_type": "execute_result"
    }
   ],
   "source": [
    "y_reshaped2 = y.reshape(3,3)\n",
    "y_reshaped2"
   ]
  },
  {
   "cell_type": "code",
   "execution_count": 67,
   "id": "3b87e5a8-0851-4322-80ad-42dc4d751dce",
   "metadata": {},
   "outputs": [
    {
     "data": {
      "text/plain": [
       "torch.Size([3, 3])"
      ]
     },
     "execution_count": 67,
     "metadata": {},
     "output_type": "execute_result"
    }
   ],
   "source": [
    "y_reshaped2.shape"
   ]
  },
  {
   "cell_type": "code",
   "execution_count": 70,
   "id": "5d6ac12e-2dbe-4d23-a8d4-4ae927eefabb",
   "metadata": {},
   "outputs": [
    {
     "data": {
      "text/plain": [
       "torch.Size([1, 9])"
      ]
     },
     "execution_count": 70,
     "metadata": {},
     "output_type": "execute_result"
    }
   ],
   "source": [
    "z = y.view(1,9)\n",
    "z.shape"
   ]
  },
  {
   "cell_type": "code",
   "execution_count": 71,
   "id": "3e5797f7-2cc9-4d84-9d52-0254e52814b9",
   "metadata": {},
   "outputs": [],
   "source": [
    "#dufferebce between numpy array and torch tensors"
   ]
  },
  {
   "cell_type": "code",
   "execution_count": 72,
   "id": "b5dcf387-06e0-4c5b-9378-4cb331a18b45",
   "metadata": {},
   "outputs": [],
   "source": [
    "import numpy as np\n",
    "import torch"
   ]
  },
  {
   "cell_type": "code",
   "execution_count": 90,
   "id": "d520a1fc-4f4c-4a80-8af5-a2826384244d",
   "metadata": {},
   "outputs": [],
   "source": [
    "numpy_arr = np.arange(1,10)\n",
    "tensor = torch.arange(1,10)"
   ]
  },
  {
   "cell_type": "code",
   "execution_count": 91,
   "id": "d4bfce16-2201-459d-ae4e-59d1c09c955c",
   "metadata": {},
   "outputs": [
    {
     "data": {
      "text/plain": [
       "dtype('int64')"
      ]
     },
     "execution_count": 91,
     "metadata": {},
     "output_type": "execute_result"
    }
   ],
   "source": [
    "numpy_arr.dtype"
   ]
  },
  {
   "cell_type": "code",
   "execution_count": 92,
   "id": "d4191b33-01cd-415e-a1de-8d055fe8bf40",
   "metadata": {},
   "outputs": [
    {
     "data": {
      "text/plain": [
       "torch.int64"
      ]
     },
     "execution_count": 92,
     "metadata": {},
     "output_type": "execute_result"
    }
   ],
   "source": [
    "tensor.dtype"
   ]
  },
  {
   "cell_type": "code",
   "execution_count": 89,
   "id": "02d41376-e050-456f-ad0d-7126ca71b2ce",
   "metadata": {},
   "outputs": [
    {
     "data": {
      "text/plain": [
       "tensor([[0., 0., 0., 0.],\n",
       "        [0., 0., 0., 0.],\n",
       "        [0., 0., 0., 0.],\n",
       "        [0., 0., 0., 0.]])"
      ]
     },
     "execution_count": 89,
     "metadata": {},
     "output_type": "execute_result"
    }
   ],
   "source": [
    "torch.zeros(4,4)"
   ]
  },
  {
   "cell_type": "code",
   "execution_count": 76,
   "id": "6e4b7dfe-5b2d-4984-87bf-340968a1d2cd",
   "metadata": {},
   "outputs": [
    {
     "data": {
      "text/plain": [
       "array([[0., 0., 0., 0.],\n",
       "       [0., 0., 0., 0.],\n",
       "       [0., 0., 0., 0.],\n",
       "       [0., 0., 0., 0.]])"
      ]
     },
     "execution_count": 76,
     "metadata": {},
     "output_type": "execute_result"
    }
   ],
   "source": [
    "array_zero = np.zeros((4,4))\n",
    "array_zero"
   ]
  },
  {
   "cell_type": "code",
   "execution_count": null,
   "id": "61ec281f-a077-4dc2-89f2-5cc852a42827",
   "metadata": {},
   "outputs": [],
   "source": []
  }
 ],
 "metadata": {
  "kernelspec": {
   "display_name": "Python 3 (ipykernel)",
   "language": "python",
   "name": "python3"
  },
  "language_info": {
   "codemirror_mode": {
    "name": "ipython",
    "version": 3
   },
   "file_extension": ".py",
   "mimetype": "text/x-python",
   "name": "python",
   "nbconvert_exporter": "python",
   "pygments_lexer": "ipython3",
   "version": "3.9.12"
  }
 },
 "nbformat": 4,
 "nbformat_minor": 5
}
